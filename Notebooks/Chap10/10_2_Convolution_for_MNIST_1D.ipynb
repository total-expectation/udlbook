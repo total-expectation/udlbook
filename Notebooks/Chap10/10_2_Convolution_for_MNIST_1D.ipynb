{
 "nbformat": 4,
 "nbformat_minor": 0,
 "metadata": {
  "colab": {
   "provenance": [],
   "authorship_tag": "ABX9TyNJodaaCLMRWL9vTl8B/iLI",
   "include_colab_link": true
  },
  "kernelspec": {
   "name": "python3",
   "language": "python",
   "display_name": "Python 3 (ipykernel)"
  },
  "language_info": {
   "name": "python"
  }
 },
 "cells": [
  {
   "cell_type": "markdown",
   "metadata": {
    "id": "view-in-github",
    "colab_type": "text"
   },
   "source": [
    "<a href=\"https://colab.research.google.com/github/udlbook/udlbook/blob/main/Notebooks/Chap10/10_2_Convolution_for_MNIST_1D.ipynb\" target=\"_parent\"><img src=\"https://colab.research.google.com/assets/colab-badge.svg\" alt=\"Open In Colab\"/></a>"
   ]
  },
  {
   "cell_type": "markdown",
   "source": [
    "# **Notebook 10.2: Convolution for MNIST-1D**\n",
    "\n",
    "This notebook investigates a 1D convolutional network for MNIST-1D as in figure 10.7 and 10.8a.\n",
    "\n",
    "Work through the cells below, running each cell in turn. In various places you will see the words \"TO DO\". Follow the instructions at these places and make predictions about what is going to happen or write code to complete the functions.\n",
    "\n",
    "Contact me at udlbookmail@gmail.com if you find any mistakes or have any suggestions.\n",
    "\n"
   ],
   "metadata": {
    "id": "t9vk9Elugvmi"
   }
  },
  {
   "cell_type": "code",
   "source": [
    "# Run this if you're in a Colab to make a local copy of the MNIST 1D repository\n",
    "!git clone https://github.com/greydanus/mnist1d"
   ],
   "metadata": {
    "id": "D5yLObtZCi9J",
    "ExecuteTime": {
     "end_time": "2024-04-22T12:05:53.916864700Z",
     "start_time": "2024-04-22T12:05:53.859823200Z"
    }
   },
   "execution_count": 1,
   "outputs": [
    {
     "name": "stderr",
     "output_type": "stream",
     "text": [
      "fatal: destination path 'mnist1d' already exists and is not an empty directory.\n"
     ]
    }
   ]
  },
  {
   "cell_type": "code",
   "source": [
    "import numpy as np\n",
    "import os\n",
    "import torch, torch.nn as nn\n",
    "from torch.utils.data import TensorDataset, DataLoader\n",
    "from torch.optim.lr_scheduler import StepLR\n",
    "import matplotlib.pyplot as plt\n",
    "import mnist1d\n",
    "import random\n",
    "\n",
    "from IPython.core.interactiveshell import InteractiveShell\n",
    "InteractiveShell.ast_node_interactivity = \"all\""
   ],
   "metadata": {
    "id": "YrXWAH7sUWvU",
    "ExecuteTime": {
     "end_time": "2024-04-22T12:05:57.188165900Z",
     "start_time": "2024-04-22T12:05:53.914865900Z"
    }
   },
   "execution_count": 2,
   "outputs": []
  },
  {
   "cell_type": "code",
   "source": [
    "args = mnist1d.data.get_dataset_args()\n",
    "data = mnist1d.data.get_dataset(args, path='./mnist1d_data.pkl', download=False, regenerate=False)\n",
    "\n",
    "# The training and test input and outputs are in\n",
    "# data['x'], data['y'], data['x_test'], and data['y_test']\n",
    "# clarification x is the 1D coordinate for the digit and y is the label \n",
    "print(\"Examples in training set: {}\".format(len(data['y'])))\n",
    "print(\"Examples in test set: {}\".format(len(data['y_test'])))\n",
    "print(\"Length of each example: {}\".format(data['x'].shape[-1]))"
   ],
   "metadata": {
    "id": "twI72ZCrCt5z",
    "ExecuteTime": {
     "end_time": "2024-04-22T12:05:57.195711600Z",
     "start_time": "2024-04-22T12:05:57.190164300Z"
    }
   },
   "execution_count": 3,
   "outputs": [
    {
     "name": "stdout",
     "output_type": "stream",
     "text": [
      "Successfully loaded data from ./mnist1d_data.pkl\n",
      "Examples in training set: 4000\n",
      "Examples in test set: 1000\n",
      "Length of each example: 40\n"
     ]
    }
   ]
  },
  {
   "cell_type": "code",
   "source": [
    "# Load in the data\n",
    "train_data_x = data['x'].transpose()\n",
    "train_data_y = data['y']\n",
    "val_data_x = data['x_test'].transpose()\n",
    "val_data_y = data['y_test']\n",
    "# Print out sizes\n",
    "print(train_data_x.shape)\n",
    "print(train_data_y.shape)\n",
    "print(\"Train data: %d examples (columns), each of which has %d dimensions (rows)\"%((train_data_x.shape[1],train_data_x.shape[0])))\n",
    "print(\"Validation data: %d examples (columns), each of which has %d dimensions (rows)\"%((val_data_x.shape[1],val_data_x.shape[0])))"
   ],
   "metadata": {
    "id": "8bKADvLHbiV5",
    "ExecuteTime": {
     "end_time": "2024-04-22T12:05:57.202033700Z",
     "start_time": "2024-04-22T12:05:57.195711600Z"
    }
   },
   "execution_count": 4,
   "outputs": [
    {
     "name": "stdout",
     "output_type": "stream",
     "text": [
      "(40, 4000)\n",
      "(4000,)\n",
      "Train data: 4000 examples (columns), each of which has 40 dimensions (rows)\n",
      "Validation data: 1000 examples (columns), each of which has 40 dimensions (rows)\n"
     ]
    }
   ]
  },
  {
   "cell_type": "markdown",
   "source": [
    "Define the network"
   ],
   "metadata": {
    "id": "_sFvRDGrl4qe"
   }
  },
  {
   "cell_type": "code",
   "source": [
    "# There are 40 input dimensions and 10 output dimensions for this data\n",
    "# The inputs correspond to the 40 offsets in the MNIST1D template.\n",
    "D_i = 40\n",
    "# The outputs correspond to the 10 digits\n",
    "D_o = 10\n",
    "\n",
    "\n",
    "# TODO Create a model with the following layers\n",
    "# 1. Convolutional layer, (input=length 40 and 1 channel, kernel size 3, stride 2, padding=\"valid\", 15 output channels )\n",
    "# 2. ReLU\n",
    "# 3. Convolutional layer, (input=length 19 and 15 channels, kernel size 3, stride 2, padding=\"valid\", 15 output channels )\n",
    "# 4. ReLU\n",
    "# 5. Convolutional layer, (input=length 9 and 15 channels, kernel size 3, stride 2, padding=\"valid\", 15 output channels)\n",
    "# 6. ReLU\n",
    "# 7. Flatten (converts 4x15) to length 60\n",
    "# 8. Linear layer (input size = 60, output size = 10)\n",
    "# References:\n",
    "# https://pytorch.org/docs/1.13/generated/torch.nn.Conv1d.html?highlight=conv1d#torch.nn.Conv1d\n",
    "# https://pytorch.org/docs/stable/generated/torch.nn.Flatten.html\n",
    "# https://pytorch.org/docs/1.13/generated/torch.nn.Linear.html?highlight=linear#torch.nn.Linear\n",
    "\n",
    "# NOTE THAT THE CONVOLUTIONAL LAYERS NEED TO TAKE THE NUMBER OF INPUT CHANNELS AS A PARAMETER\n",
    "# AND NOT THE INPUT SIZE.\n",
    "\n",
    "# Replace the following function:\n",
    "model = nn.Sequential(\n",
    "  nn.Conv1d(1, 15, 3, 2, padding=\"valid\"),\n",
    "  nn.ReLU(),\n",
    "  nn.Conv1d(15, 15, 3, 2, padding=\"valid\"),\n",
    "  nn.ReLU(),\n",
    "  nn.Conv1d(15, 15, 3, 2, padding=\"valid\"),\n",
    "  nn.Flatten(),\n",
    "  nn.Linear(60, D_o)\n",
    ")"
   ],
   "metadata": {
    "id": "FslroPJJffrh",
    "ExecuteTime": {
     "end_time": "2024-04-22T12:05:57.241378900Z",
     "start_time": "2024-04-22T12:05:57.204033700Z"
    }
   },
   "execution_count": 5,
   "outputs": []
  },
  {
   "cell_type": "code",
   "source": [
    "# He initialization of weights\n",
    "def weights_init(layer_in):\n",
    "  if isinstance(layer_in, nn.Linear):\n",
    "    nn.init.kaiming_uniform_(layer_in.weight)\n",
    "    layer_in.bias.data.fill_(0.0)"
   ],
   "metadata": {
    "id": "YgLaex1pfhqz",
    "ExecuteTime": {
     "end_time": "2024-04-22T12:05:57.242377400Z",
     "start_time": "2024-04-22T12:05:57.211863300Z"
    }
   },
   "execution_count": 6,
   "outputs": []
  },
  {
   "cell_type": "code",
   "outputs": [
    {
     "data": {
      "text/plain": "Sequential(\n  (0): Conv1d(1, 15, kernel_size=(3,), stride=(2,), padding=valid)\n  (1): ReLU()\n  (2): Conv1d(15, 15, kernel_size=(3,), stride=(2,), padding=valid)\n  (3): ReLU()\n  (4): Conv1d(15, 15, kernel_size=(3,), stride=(2,), padding=valid)\n  (5): Flatten(start_dim=1, end_dim=-1)\n  (6): Linear(in_features=60, out_features=10, bias=True)\n)"
     },
     "execution_count": 7,
     "metadata": {},
     "output_type": "execute_result"
    }
   ],
   "source": [
    "# choose cross entropy loss function (equation 5.24 in the loss notes)\n",
    "loss_function = nn.CrossEntropyLoss()\n",
    "# construct SGD optimizer and initialize learning rate and momentum\n",
    "optimizer = torch.optim.SGD(model.parameters(), lr = 0.05, momentum=0.9)\n",
    "# object that decreases learning rate by half every 20 epochs\n",
    "scheduler = StepLR(optimizer, step_size=20, gamma=0.5)\n",
    "# create 100 dummy data points and store in data loader class\n",
    "x_train = torch.tensor(train_data_x.transpose().astype('float32'))\n",
    "y_train = torch.tensor(train_data_y.astype('long')).long()\n",
    "x_val= torch.tensor(val_data_x.transpose().astype('float32'))\n",
    "y_val = torch.tensor(val_data_y.astype('long')).long()\n",
    "\n",
    "# load the data into a class that creates the batches\n",
    "data_loader = DataLoader(TensorDataset(x_train,y_train), batch_size=100, shuffle=True, worker_init_fn=np.random.seed(1))\n",
    "\n",
    "# Initialize model weights\n",
    "model.apply(weights_init)\n",
    "\n",
    "# loop over the dataset n_epoch times\n",
    "n_epoch = 100\n",
    "# store the loss and the % correct at each epoch\n",
    "losses_train = np.zeros((n_epoch))\n",
    "errors_train = np.zeros((n_epoch))\n",
    "losses_val = np.zeros((n_epoch))\n",
    "errors_val = np.zeros((n_epoch))\n",
    "\n",
    "# print(\"Shape of training batch\")\n",
    "# print(next(enumerate(data_loader))[1][0].shape)\n",
    "# next(enumerate(data_loader))[1][0][:, None, :].shape\n"
   ],
   "metadata": {
    "collapsed": false,
    "ExecuteTime": {
     "end_time": "2024-04-22T12:05:57.913127600Z",
     "start_time": "2024-04-22T12:05:57.216379600Z"
    }
   },
   "execution_count": 7
  },
  {
   "cell_type": "code",
   "source": [
    "# expected input[1, 100, 1, 40] to have 1 channels\n",
    "\n",
    "for epoch in range(n_epoch):\n",
    "  # loop over batches\n",
    "  for i, data in enumerate(data_loader):\n",
    "    # retrieve inputs and labels for this batch\n",
    "    x_batch, y_batch = data\n",
    "    # zero the parameter gradients\n",
    "    optimizer.zero_grad()\n",
    "    # forward pass -- calculate model output\n",
    "    # the None is to add the required input channel, which is 1\n",
    "    pred = model(x_batch[:,None,:])\n",
    "    # compute the loss\n",
    "    loss = loss_function(pred, y_batch)\n",
    "    # backward pass\n",
    "    loss.backward()\n",
    "    # SGD update\n",
    "    optimizer.step()\n",
    "\n",
    "  # Run whole dataset to get statistics -- normally wouldn't do this\n",
    "  pred_train = model(x_train[:,None,:])\n",
    "  pred_val = model(x_val[:,None,:])\n",
    "  _, predicted_train_class = torch.max(pred_train.data, 1)\n",
    "  _, predicted_val_class = torch.max(pred_val.data, 1)\n",
    "  # error is just 100 - number of correct preds = number of incorrect preds\n",
    "  errors_train[epoch] = 100 - 100 * (predicted_train_class == y_train).float().sum() / len(y_train)\n",
    "  errors_val[epoch]= 100 - 100 * (predicted_val_class == y_val).float().sum() / len(y_val)\n",
    "  losses_train[epoch] = loss_function(pred_train, y_train).item()\n",
    "  losses_val[epoch]= loss_function(pred_val, y_val).item()\n",
    "  print(f'Epoch {epoch:5d}, train loss {losses_train[epoch]:.6f}, train error {errors_train[epoch]:3.2f},  val loss {losses_val[epoch]:.6f}, percent error {errors_val[epoch]:3.2f}')\n",
    "\n",
    "  # tell scheduler to consider updating learning rate\n",
    "  scheduler.step()\n",
    "\n",
    "# Plot the results\n",
    "fig, ax = plt.subplots()\n",
    "ax.plot(errors_train,'r-',label='train')\n",
    "ax.plot(errors_val,'b-',label='validation')\n",
    "ax.set_ylim(0,100); ax.set_xlim(0,n_epoch)\n",
    "ax.set_xlabel('Epoch'); ax.set_ylabel('Error')\n",
    "ax.set_title('Part I: Validation Result %3.2f'%(errors_val[-1]))\n",
    "ax.legend()\n",
    "plt.show()"
   ],
   "metadata": {
    "id": "NYw8I_3mmX5c",
    "ExecuteTime": {
     "end_time": "2024-04-22T12:06:11.859066800Z",
     "start_time": "2024-04-22T12:05:57.911130400Z"
    }
   },
   "execution_count": 8,
   "outputs": [
    {
     "name": "stdout",
     "output_type": "stream",
     "text": [
      "Epoch     0, train loss 1.714066, train error 69.68,  val loss 1.707517, percent error 71.10\n",
      "Epoch     1, train loss 1.422881, train error 57.35,  val loss 1.431956, percent error 58.80\n",
      "Epoch     2, train loss 1.312579, train error 52.65,  val loss 1.309963, percent error 55.80\n",
      "Epoch     3, train loss 1.338727, train error 53.08,  val loss 1.376750, percent error 54.50\n",
      "Epoch     4, train loss 1.154199, train error 44.72,  val loss 1.167485, percent error 47.50\n",
      "Epoch     5, train loss 1.040051, train error 40.53,  val loss 1.065450, percent error 44.00\n",
      "Epoch     6, train loss 0.974589, train error 40.08,  val loss 1.006319, percent error 43.90\n",
      "Epoch     7, train loss 0.803273, train error 31.22,  val loss 0.848947, percent error 34.00\n",
      "Epoch     8, train loss 0.788936, train error 30.55,  val loss 0.850263, percent error 33.40\n",
      "Epoch     9, train loss 0.662358, train error 26.18,  val loss 0.750779, percent error 30.70\n",
      "Epoch    10, train loss 0.621229, train error 24.22,  val loss 0.700099, percent error 27.00\n",
      "Epoch    11, train loss 0.552129, train error 20.53,  val loss 0.654840, percent error 25.50\n",
      "Epoch    12, train loss 0.491551, train error 18.20,  val loss 0.599550, percent error 23.00\n",
      "Epoch    13, train loss 0.630995, train error 22.95,  val loss 0.773535, percent error 27.20\n",
      "Epoch    14, train loss 0.564942, train error 19.68,  val loss 0.673220, percent error 23.10\n",
      "Epoch    15, train loss 0.344906, train error 11.88,  val loss 0.484919, percent error 16.40\n",
      "Epoch    16, train loss 0.316436, train error 11.38,  val loss 0.456362, percent error 17.50\n",
      "Epoch    17, train loss 0.254221, train error 8.72,  val loss 0.389322, percent error 13.80\n",
      "Epoch    18, train loss 0.253805, train error 9.22,  val loss 0.458707, percent error 15.00\n",
      "Epoch    19, train loss 0.230223, train error 7.45,  val loss 0.414217, percent error 15.50\n",
      "Epoch    20, train loss 0.190034, train error 6.35,  val loss 0.388224, percent error 13.30\n",
      "Epoch    21, train loss 0.197851, train error 6.60,  val loss 0.406284, percent error 12.50\n",
      "Epoch    22, train loss 0.165813, train error 5.25,  val loss 0.380043, percent error 12.10\n",
      "Epoch    23, train loss 0.185361, train error 6.22,  val loss 0.421487, percent error 12.30\n",
      "Epoch    24, train loss 0.199329, train error 7.25,  val loss 0.425928, percent error 13.30\n",
      "Epoch    25, train loss 0.180907, train error 6.35,  val loss 0.404424, percent error 12.70\n",
      "Epoch    26, train loss 0.151839, train error 4.70,  val loss 0.394853, percent error 11.40\n",
      "Epoch    27, train loss 0.149727, train error 4.90,  val loss 0.419121, percent error 12.80\n",
      "Epoch    28, train loss 0.136492, train error 4.28,  val loss 0.382485, percent error 10.90\n",
      "Epoch    29, train loss 0.131183, train error 4.25,  val loss 0.425104, percent error 12.10\n",
      "Epoch    30, train loss 0.146684, train error 5.55,  val loss 0.383327, percent error 11.70\n",
      "Epoch    31, train loss 0.132456, train error 4.28,  val loss 0.395809, percent error 12.00\n",
      "Epoch    32, train loss 0.143373, train error 5.28,  val loss 0.408909, percent error 12.00\n",
      "Epoch    33, train loss 0.144417, train error 5.28,  val loss 0.403749, percent error 12.10\n",
      "Epoch    34, train loss 0.111368, train error 3.47,  val loss 0.402507, percent error 11.60\n",
      "Epoch    35, train loss 0.176393, train error 5.93,  val loss 0.447346, percent error 13.90\n",
      "Epoch    36, train loss 0.146610, train error 5.22,  val loss 0.421159, percent error 12.40\n",
      "Epoch    37, train loss 0.122405, train error 3.93,  val loss 0.399868, percent error 12.00\n",
      "Epoch    38, train loss 0.106273, train error 3.47,  val loss 0.385994, percent error 11.40\n",
      "Epoch    39, train loss 0.155091, train error 5.05,  val loss 0.471916, percent error 13.30\n",
      "Epoch    40, train loss 0.102776, train error 3.38,  val loss 0.383587, percent error 10.90\n",
      "Epoch    41, train loss 0.082946, train error 2.28,  val loss 0.387461, percent error 10.00\n",
      "Epoch    42, train loss 0.080946, train error 2.22,  val loss 0.391027, percent error 10.50\n",
      "Epoch    43, train loss 0.084003, train error 2.38,  val loss 0.401331, percent error 10.00\n",
      "Epoch    44, train loss 0.076828, train error 2.03,  val loss 0.378023, percent error 10.00\n",
      "Epoch    45, train loss 0.081999, train error 2.35,  val loss 0.408739, percent error 10.70\n",
      "Epoch    46, train loss 0.081837, train error 2.40,  val loss 0.400929, percent error 10.80\n",
      "Epoch    47, train loss 0.080760, train error 2.45,  val loss 0.384134, percent error 11.00\n",
      "Epoch    48, train loss 0.075959, train error 2.07,  val loss 0.402108, percent error 11.00\n",
      "Epoch    49, train loss 0.073251, train error 2.12,  val loss 0.406179, percent error 10.30\n",
      "Epoch    50, train loss 0.070205, train error 1.85,  val loss 0.406468, percent error 10.10\n",
      "Epoch    51, train loss 0.069208, train error 2.00,  val loss 0.415103, percent error 10.50\n",
      "Epoch    52, train loss 0.066904, train error 1.62,  val loss 0.401355, percent error 10.40\n",
      "Epoch    53, train loss 0.073480, train error 2.28,  val loss 0.398147, percent error 10.60\n",
      "Epoch    54, train loss 0.072979, train error 2.07,  val loss 0.436428, percent error 10.20\n",
      "Epoch    55, train loss 0.065500, train error 1.72,  val loss 0.417565, percent error 11.00\n",
      "Epoch    56, train loss 0.076103, train error 2.00,  val loss 0.447550, percent error 10.50\n",
      "Epoch    57, train loss 0.063383, train error 1.45,  val loss 0.411692, percent error 10.40\n",
      "Epoch    58, train loss 0.059193, train error 1.28,  val loss 0.427907, percent error 10.10\n",
      "Epoch    59, train loss 0.076300, train error 2.12,  val loss 0.464758, percent error 11.30\n",
      "Epoch    60, train loss 0.057750, train error 1.25,  val loss 0.429239, percent error 10.60\n",
      "Epoch    61, train loss 0.054843, train error 1.18,  val loss 0.431420, percent error 10.10\n",
      "Epoch    62, train loss 0.054494, train error 1.30,  val loss 0.431031, percent error 10.30\n",
      "Epoch    63, train loss 0.058048, train error 1.47,  val loss 0.436966, percent error 10.40\n",
      "Epoch    64, train loss 0.052424, train error 1.18,  val loss 0.438505, percent error 10.10\n",
      "Epoch    65, train loss 0.054292, train error 1.22,  val loss 0.439960, percent error 10.00\n",
      "Epoch    66, train loss 0.053274, train error 1.20,  val loss 0.444366, percent error 10.40\n",
      "Epoch    67, train loss 0.052556, train error 1.15,  val loss 0.448121, percent error 10.20\n",
      "Epoch    68, train loss 0.053947, train error 1.15,  val loss 0.456380, percent error 10.10\n",
      "Epoch    69, train loss 0.052014, train error 1.00,  val loss 0.451475, percent error 10.30\n",
      "Epoch    70, train loss 0.050056, train error 1.20,  val loss 0.450061, percent error 10.30\n",
      "Epoch    71, train loss 0.051942, train error 1.35,  val loss 0.440679, percent error 10.80\n",
      "Epoch    72, train loss 0.049160, train error 1.10,  val loss 0.449583, percent error 10.50\n",
      "Epoch    73, train loss 0.049815, train error 1.15,  val loss 0.455942, percent error 10.60\n",
      "Epoch    74, train loss 0.048414, train error 1.03,  val loss 0.454905, percent error 10.40\n",
      "Epoch    75, train loss 0.050796, train error 1.32,  val loss 0.455362, percent error 11.00\n",
      "Epoch    76, train loss 0.046483, train error 0.93,  val loss 0.453749, percent error 10.80\n",
      "Epoch    77, train loss 0.046708, train error 0.97,  val loss 0.456269, percent error 10.60\n",
      "Epoch    78, train loss 0.046350, train error 1.00,  val loss 0.455923, percent error 10.60\n",
      "Epoch    79, train loss 0.044991, train error 0.85,  val loss 0.462145, percent error 10.30\n",
      "Epoch    80, train loss 0.044254, train error 0.82,  val loss 0.461234, percent error 10.30\n",
      "Epoch    81, train loss 0.044431, train error 0.93,  val loss 0.469338, percent error 10.60\n",
      "Epoch    82, train loss 0.043576, train error 0.82,  val loss 0.466469, percent error 10.40\n",
      "Epoch    83, train loss 0.043762, train error 0.80,  val loss 0.461886, percent error 10.70\n",
      "Epoch    84, train loss 0.044602, train error 0.97,  val loss 0.464210, percent error 10.30\n",
      "Epoch    85, train loss 0.043500, train error 0.85,  val loss 0.473690, percent error 10.60\n",
      "Epoch    86, train loss 0.042743, train error 0.82,  val loss 0.466898, percent error 10.50\n",
      "Epoch    87, train loss 0.042551, train error 0.82,  val loss 0.472512, percent error 10.80\n",
      "Epoch    88, train loss 0.042927, train error 0.85,  val loss 0.466912, percent error 10.90\n",
      "Epoch    89, train loss 0.042061, train error 0.82,  val loss 0.473439, percent error 10.80\n",
      "Epoch    90, train loss 0.042304, train error 0.75,  val loss 0.474788, percent error 10.70\n",
      "Epoch    91, train loss 0.041970, train error 0.88,  val loss 0.476581, percent error 10.60\n",
      "Epoch    92, train loss 0.041755, train error 0.75,  val loss 0.478316, percent error 10.80\n",
      "Epoch    93, train loss 0.041722, train error 0.82,  val loss 0.481102, percent error 10.60\n",
      "Epoch    94, train loss 0.041332, train error 0.72,  val loss 0.473428, percent error 11.20\n",
      "Epoch    95, train loss 0.042073, train error 0.82,  val loss 0.486278, percent error 11.20\n",
      "Epoch    96, train loss 0.041918, train error 0.80,  val loss 0.485382, percent error 11.30\n",
      "Epoch    97, train loss 0.040978, train error 0.72,  val loss 0.482066, percent error 11.00\n",
      "Epoch    98, train loss 0.040396, train error 0.72,  val loss 0.478456, percent error 11.20\n",
      "Epoch    99, train loss 0.041090, train error 0.82,  val loss 0.475879, percent error 10.70\n"
     ]
    },
    {
     "data": {
      "text/plain": "[<matplotlib.lines.Line2D at 0x2489c8a2810>]"
     },
     "execution_count": 8,
     "metadata": {},
     "output_type": "execute_result"
    },
    {
     "data": {
      "text/plain": "[<matplotlib.lines.Line2D at 0x2489d3cead0>]"
     },
     "execution_count": 8,
     "metadata": {},
     "output_type": "execute_result"
    },
    {
     "data": {
      "text/plain": "(0.0, 100.0)"
     },
     "execution_count": 8,
     "metadata": {},
     "output_type": "execute_result"
    },
    {
     "data": {
      "text/plain": "(0.0, 100.0)"
     },
     "execution_count": 8,
     "metadata": {},
     "output_type": "execute_result"
    },
    {
     "data": {
      "text/plain": "Text(0.5, 0, 'Epoch')"
     },
     "execution_count": 8,
     "metadata": {},
     "output_type": "execute_result"
    },
    {
     "data": {
      "text/plain": "Text(0, 0.5, 'Error')"
     },
     "execution_count": 8,
     "metadata": {},
     "output_type": "execute_result"
    },
    {
     "data": {
      "text/plain": "Text(0.5, 1.0, 'Part I: Validation Result 10.70')"
     },
     "execution_count": 8,
     "metadata": {},
     "output_type": "execute_result"
    },
    {
     "data": {
      "text/plain": "<matplotlib.legend.Legend at 0x2489d3b2f10>"
     },
     "execution_count": 8,
     "metadata": {},
     "output_type": "execute_result"
    },
    {
     "data": {
      "text/plain": "<Figure size 640x480 with 1 Axes>",
      "image/png": "[encoded data removed]"
     },
     "metadata": {},
     "output_type": "display_data"
    }
   ]
  },
  {
   "cell_type": "code",
   "outputs": [],
   "source": [],
   "metadata": {
    "collapsed": false,
    "ExecuteTime": {
     "end_time": "2024-04-22T12:06:11.870316100Z",
     "start_time": "2024-04-22T12:06:11.860318200Z"
    }
   },
   "execution_count": 8
  }
 ]
}
