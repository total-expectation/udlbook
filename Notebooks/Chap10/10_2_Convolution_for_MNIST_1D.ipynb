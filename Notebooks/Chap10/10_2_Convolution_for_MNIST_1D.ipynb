{
 "nbformat": 4,
 "nbformat_minor": 0,
 "metadata": {
  "colab": {
   "provenance": [],
   "authorship_tag": "ABX9TyNJodaaCLMRWL9vTl8B/iLI",
   "include_colab_link": true
  },
  "kernelspec": {
   "name": "python3",
   "language": "python",
   "display_name": "Python 3 (ipykernel)"
  },
  "language_info": {
   "name": "python"
  }
 },
 "cells": [
  {
   "cell_type": "markdown",
   "metadata": {
    "id": "view-in-github",
    "colab_type": "text"
   },
   "source": [
    "<a href=\"https://colab.research.google.com/github/udlbook/udlbook/blob/main/Notebooks/Chap10/10_2_Convolution_for_MNIST_1D.ipynb\" target=\"_parent\"><img src=\"https://colab.research.google.com/assets/colab-badge.svg\" alt=\"Open In Colab\"/></a>"
   ]
  },
  {
   "cell_type": "markdown",
   "source": [
    "# **Notebook 10.2: Convolution for MNIST-1D**\n",
    "\n",
    "This notebook investigates a 1D convolutional network for MNIST-1D as in figure 10.7 and 10.8a.\n",
    "\n",
    "Work through the cells below, running each cell in turn. In various places you will see the words \"TO DO\". Follow the instructions at these places and make predictions about what is going to happen or write code to complete the functions.\n",
    "\n",
    "Contact me at udlbookmail@gmail.com if you find any mistakes or have any suggestions.\n",
    "\n"
   ],
   "metadata": {
    "id": "t9vk9Elugvmi"
   }
  },
  {
   "cell_type": "code",
   "source": [
    "# Run this if you're in a Colab to make a local copy of the MNIST 1D repository\n",
    "!git clone https://github.com/greydanus/mnist1d"
   ],
   "metadata": {
    "id": "D5yLObtZCi9J",
    "ExecuteTime": {
     "end_time": "2024-04-19T07:00:14.675488300Z",
     "start_time": "2024-04-19T07:00:12.842777200Z"
    }
   },
   "execution_count": 2,
   "outputs": [
    {
     "name": "stderr",
     "output_type": "stream",
     "text": [
      "Cloning into 'mnist1d'...\n"
     ]
    }
   ]
  },
  {
   "cell_type": "code",
   "source": [
    "import numpy as np\n",
    "import os\n",
    "import torch, torch.nn as nn\n",
    "from torch.utils.data import TensorDataset, DataLoader\n",
    "from torch.optim.lr_scheduler import StepLR\n",
    "import matplotlib.pyplot as plt\n",
    "import mnist1d\n",
    "import random\n",
    "\n",
    "from IPython.core.interactiveshell import InteractiveShell\n",
    "InteractiveShell.ast_node_interactivity = \"all\""
   ],
   "metadata": {
    "id": "YrXWAH7sUWvU",
    "ExecuteTime": {
     "end_time": "2024-04-20T06:22:15.455463600Z",
     "start_time": "2024-04-20T06:22:10.490231300Z"
    }
   },
   "execution_count": 1,
   "outputs": []
  },
  {
   "cell_type": "code",
   "source": [
    "args = mnist1d.data.get_dataset_args()\n",
    "data = mnist1d.data.get_dataset(args, path='./mnist1d_data.pkl', download=False, regenerate=False)\n",
    "\n",
    "# The training and test input and outputs are in\n",
    "# data['x'], data['y'], data['x_test'], and data['y_test']\n",
    "# clarification x is the 1D coordinate for the digit and y is the label \n",
    "print(\"Examples in training set: {}\".format(len(data['y'])))\n",
    "print(\"Examples in test set: {}\".format(len(data['y_test'])))\n",
    "print(\"Length of each example: {}\".format(data['x'].shape[-1]))"
   ],
   "metadata": {
    "id": "twI72ZCrCt5z",
    "ExecuteTime": {
     "end_time": "2024-04-20T07:18:58.308600500Z",
     "start_time": "2024-04-20T07:18:58.300850500Z"
    }
   },
   "execution_count": 5,
   "outputs": [
    {
     "name": "stdout",
     "output_type": "stream",
     "text": [
      "Successfully loaded data from ./mnist1d_data.pkl\n",
      "Examples in training set: 4000\n",
      "Examples in test set: 1000\n",
      "Length of each example: 40\n"
     ]
    }
   ]
  },
  {
   "cell_type": "code",
   "source": [
    "# Load in the data\n",
    "train_data_x = data['x'].transpose()\n",
    "train_data_y = data['y']\n",
    "val_data_x = data['x_test'].transpose()\n",
    "val_data_y = data['y_test']\n",
    "# Print out sizes\n",
    "print(train_data_x.shape)\n",
    "print(train_data_y.shape)\n",
    "print(\"Train data: %d examples (columns), each of which has %d dimensions (rows)\"%((train_data_x.shape[1],train_data_x.shape[0])))\n",
    "print(\"Validation data: %d examples (columns), each of which has %d dimensions (rows)\"%((val_data_x.shape[1],val_data_x.shape[0])))"
   ],
   "metadata": {
    "id": "8bKADvLHbiV5",
    "ExecuteTime": {
     "end_time": "2024-04-20T07:18:58.919718300Z",
     "start_time": "2024-04-20T07:18:58.915823400Z"
    }
   },
   "execution_count": 6,
   "outputs": [
    {
     "name": "stdout",
     "output_type": "stream",
     "text": [
      "(40, 4000)\n",
      "(4000,)\n",
      "Train data: 4000 examples (columns), each of which has 40 dimensions (rows)\n",
      "Validation data: 1000 examples (columns), each of which has 40 dimensions (rows)\n"
     ]
    }
   ]
  },
  {
   "cell_type": "markdown",
   "source": [
    "Define the network"
   ],
   "metadata": {
    "id": "_sFvRDGrl4qe"
   }
  },
  {
   "cell_type": "code",
   "source": [
    "# There are 40 input dimensions and 10 output dimensions for this data\n",
    "# The inputs correspond to the 40 offsets in the MNIST1D template.\n",
    "D_i = 40\n",
    "# The outputs correspond to the 10 digits\n",
    "D_o = 10\n",
    "\n",
    "\n",
    "# TODO Create a model with the following layers\n",
    "# 1. Convolutional layer, (input=length 40 and 1 channel, kernel size 3, stride 2, padding=\"valid\", 15 output channels )\n",
    "# 2. ReLU\n",
    "# 3. Convolutional layer, (input=length 19 and 15 channels, kernel size 3, stride 2, padding=\"valid\", 15 output channels )\n",
    "# 4. ReLU\n",
    "# 5. Convolutional layer, (input=length 9 and 15 channels, kernel size 3, stride 2, padding=\"valid\", 15 output channels)\n",
    "# 6. ReLU\n",
    "# 7. Flatten (converts 4x15) to length 60\n",
    "# 8. Linear layer (input size = 60, output size = 10)\n",
    "# References:\n",
    "# https://pytorch.org/docs/1.13/generated/torch.nn.Conv1d.html?highlight=conv1d#torch.nn.Conv1d\n",
    "# https://pytorch.org/docs/stable/generated/torch.nn.Flatten.html\n",
    "# https://pytorch.org/docs/1.13/generated/torch.nn.Linear.html?highlight=linear#torch.nn.Linear\n",
    "\n",
    "# NOTE THAT THE CONVOLUTIONAL LAYERS NEED TO TAKE THE NUMBER OF INPUT CHANNELS AS A PARAMETER\n",
    "# AND NOT THE INPUT SIZE.\n",
    "\n",
    "# Replace the following function:\n",
    "model = nn.Sequential(\n",
    "  nn.Conv1d(1, 15, 3, 2, padding=\"valid\"),\n",
    "  nn.ReLU(),\n",
    "  nn.Conv1d(15, 15, 3, 2, padding=\"valid\"),\n",
    "  nn.ReLU(),\n",
    "  nn.Conv1d(15, 15, 3, 2, padding=\"valid\"),\n",
    "  nn.Flatten(),\n",
    "  nn.Linear(60, D_o)\n",
    ")"
   ],
   "metadata": {
    "id": "FslroPJJffrh",
    "ExecuteTime": {
     "end_time": "2024-04-20T09:56:00.492965200Z",
     "start_time": "2024-04-20T09:56:00.487448800Z"
    }
   },
   "execution_count": 28,
   "outputs": []
  },
  {
   "cell_type": "code",
   "source": [
    "# He initialization of weights\n",
    "def weights_init(layer_in):\n",
    "  if isinstance(layer_in, nn.Linear):\n",
    "    nn.init.kaiming_uniform_(layer_in.weight)\n",
    "    layer_in.bias.data.fill_(0.0)"
   ],
   "metadata": {
    "id": "YgLaex1pfhqz",
    "ExecuteTime": {
     "end_time": "2024-04-20T09:56:01.954549Z",
     "start_time": "2024-04-20T09:56:01.951030600Z"
    }
   },
   "execution_count": 29,
   "outputs": []
  },
  {
   "cell_type": "code",
   "outputs": [
    {
     "data": {
      "text/plain": "Sequential(\n  (0): Conv1d(1, 15, kernel_size=(3,), stride=(2,), padding=valid)\n  (1): ReLU()\n  (2): Conv1d(15, 15, kernel_size=(3,), stride=(2,), padding=valid)\n  (3): ReLU()\n  (4): Conv1d(15, 15, kernel_size=(3,), stride=(2,), padding=valid)\n  (5): Flatten(start_dim=1, end_dim=-1)\n  (6): Linear(in_features=60, out_features=10, bias=True)\n)"
     },
     "execution_count": 30,
     "metadata": {},
     "output_type": "execute_result"
    }
   ],
   "source": [
    "# choose cross entropy loss function (equation 5.24 in the loss notes)\n",
    "loss_function = nn.CrossEntropyLoss()\n",
    "# construct SGD optimizer and initialize learning rate and momentum\n",
    "optimizer = torch.optim.SGD(model.parameters(), lr = 0.05, momentum=0.9)\n",
    "# object that decreases learning rate by half every 20 epochs\n",
    "scheduler = StepLR(optimizer, step_size=20, gamma=0.5)\n",
    "# create 100 dummy data points and store in data loader class\n",
    "x_train = torch.tensor(train_data_x.transpose().astype('float32'))\n",
    "y_train = torch.tensor(train_data_y.astype('long')).long()\n",
    "x_val= torch.tensor(val_data_x.transpose().astype('float32'))\n",
    "y_val = torch.tensor(val_data_y.astype('long')).long()\n",
    "\n",
    "# load the data into a class that creates the batches\n",
    "data_loader = DataLoader(TensorDataset(x_train,y_train), batch_size=100, shuffle=True, worker_init_fn=np.random.seed(1))\n",
    "\n",
    "# Initialize model weights\n",
    "model.apply(weights_init)\n",
    "\n",
    "# loop over the dataset n_epoch times\n",
    "n_epoch = 100\n",
    "# store the loss and the % correct at each epoch\n",
    "losses_train = np.zeros((n_epoch))\n",
    "errors_train = np.zeros((n_epoch))\n",
    "losses_val = np.zeros((n_epoch))\n",
    "errors_val = np.zeros((n_epoch))\n",
    "\n",
    "# print(\"Shape of training batch\")\n",
    "# print(next(enumerate(data_loader))[1][0].shape)\n",
    "# next(enumerate(data_loader))[1][0][:, None, :].shape\n"
   ],
   "metadata": {
    "collapsed": false,
    "ExecuteTime": {
     "end_time": "2024-04-20T09:56:03.193861500Z",
     "start_time": "2024-04-20T09:56:03.181720100Z"
    }
   },
   "execution_count": 30
  },
  {
   "cell_type": "code",
   "source": [
    "# expected input[1, 100, 1, 40] to have 1 channels\n",
    "\n",
    "for epoch in range(n_epoch):\n",
    "  # loop over batches\n",
    "  for i, data in enumerate(data_loader):\n",
    "    # retrieve inputs and labels for this batch\n",
    "    x_batch, y_batch = data\n",
    "    # zero the parameter gradients\n",
    "    optimizer.zero_grad()\n",
    "    # forward pass -- calculate model output\n",
    "    # the None is to add the required input channel, which is 1\n",
    "    pred = model(x_batch[:,None,:])\n",
    "    # compute the loss\n",
    "    loss = loss_function(pred, y_batch)\n",
    "    # backward pass\n",
    "    loss.backward()\n",
    "    # SGD update\n",
    "    optimizer.step()\n",
    "\n",
    "  # Run whole dataset to get statistics -- normally wouldn't do this\n",
    "  pred_train = model(x_train[:,None,:])\n",
    "  pred_val = model(x_val[:,None,:])\n",
    "  _, predicted_train_class = torch.max(pred_train.data, 1)\n",
    "  _, predicted_val_class = torch.max(pred_val.data, 1)\n",
    "  # error is just 100 - number of correct preds = number of incorrect preds\n",
    "  errors_train[epoch] = 100 - 100 * (predicted_train_class == y_train).float().sum() / len(y_train)\n",
    "  errors_val[epoch]= 100 - 100 * (predicted_val_class == y_val).float().sum() / len(y_val)\n",
    "  losses_train[epoch] = loss_function(pred_train, y_train).item()\n",
    "  losses_val[epoch]= loss_function(pred_val, y_val).item()\n",
    "  print(f'Epoch {epoch:5d}, train loss {losses_train[epoch]:.6f}, train error {errors_train[epoch]:3.2f},  val loss {losses_val[epoch]:.6f}, percent error {errors_val[epoch]:3.2f}')\n",
    "\n",
    "  # tell scheduler to consider updating learning rate\n",
    "  scheduler.step()\n",
    "\n",
    "# Plot the results\n",
    "fig, ax = plt.subplots()\n",
    "ax.plot(errors_train,'r-',label='train')\n",
    "ax.plot(errors_val,'b-',label='validation')\n",
    "ax.set_ylim(0,100); ax.set_xlim(0,n_epoch)\n",
    "ax.set_xlabel('Epoch'); ax.set_ylabel('Error')\n",
    "ax.set_title('Part I: Validation Result %3.2f'%(errors_val[-1]))\n",
    "ax.legend()\n",
    "plt.show()"
   ],
   "metadata": {
    "id": "NYw8I_3mmX5c",
    "ExecuteTime": {
     "end_time": "2024-04-20T09:56:20.273679600Z",
     "start_time": "2024-04-20T09:56:06.769473500Z"
    }
   },
   "execution_count": 31,
   "outputs": [
    {
     "name": "stdout",
     "output_type": "stream",
     "text": [
      "Epoch     0, train loss 1.666045, train error 67.62,  val loss 1.686117, percent error 70.20\n",
      "Epoch     1, train loss 1.408733, train error 57.17,  val loss 1.420335, percent error 57.40\n",
      "Epoch     2, train loss 1.318919, train error 53.67,  val loss 1.345960, percent error 56.30\n",
      "Epoch     3, train loss 1.250157, train error 50.33,  val loss 1.254841, percent error 53.20\n",
      "Epoch     4, train loss 1.158946, train error 46.97,  val loss 1.166492, percent error 47.60\n",
      "Epoch     5, train loss 1.041467, train error 41.62,  val loss 1.040512, percent error 43.40\n",
      "Epoch     6, train loss 0.917485, train error 36.10,  val loss 0.905576, percent error 37.00\n",
      "Epoch     7, train loss 0.763794, train error 30.00,  val loss 0.792391, percent error 32.50\n",
      "Epoch     8, train loss 0.760805, train error 29.18,  val loss 0.785042, percent error 30.70\n",
      "Epoch     9, train loss 0.648820, train error 25.10,  val loss 0.683029, percent error 28.40\n",
      "Epoch    10, train loss 0.579262, train error 21.82,  val loss 0.619816, percent error 24.00\n",
      "Epoch    11, train loss 0.651345, train error 25.97,  val loss 0.737046, percent error 30.20\n",
      "Epoch    12, train loss 0.494825, train error 19.03,  val loss 0.589423, percent error 23.30\n",
      "Epoch    13, train loss 0.433924, train error 16.28,  val loss 0.508397, percent error 19.00\n",
      "Epoch    14, train loss 0.496268, train error 18.70,  val loss 0.606674, percent error 23.90\n",
      "Epoch    15, train loss 0.347319, train error 11.88,  val loss 0.422887, percent error 15.30\n",
      "Epoch    16, train loss 0.329622, train error 11.65,  val loss 0.421543, percent error 15.90\n",
      "Epoch    17, train loss 0.290960, train error 10.88,  val loss 0.449681, percent error 15.70\n",
      "Epoch    18, train loss 0.295380, train error 10.68,  val loss 0.446131, percent error 14.60\n",
      "Epoch    19, train loss 0.310937, train error 11.75,  val loss 0.481424, percent error 16.80\n",
      "Epoch    20, train loss 0.190266, train error 6.57,  val loss 0.338264, percent error 11.70\n",
      "Epoch    21, train loss 0.174718, train error 6.05,  val loss 0.337118, percent error 10.80\n",
      "Epoch    22, train loss 0.167794, train error 5.78,  val loss 0.334511, percent error 11.70\n",
      "Epoch    23, train loss 0.176168, train error 6.12,  val loss 0.355828, percent error 11.80\n",
      "Epoch    24, train loss 0.150293, train error 4.90,  val loss 0.344529, percent error 11.70\n",
      "Epoch    25, train loss 0.147527, train error 4.72,  val loss 0.354844, percent error 11.10\n",
      "Epoch    26, train loss 0.182031, train error 6.68,  val loss 0.427309, percent error 13.20\n",
      "Epoch    27, train loss 0.153464, train error 5.55,  val loss 0.395656, percent error 12.20\n",
      "Epoch    28, train loss 0.143029, train error 5.18,  val loss 0.358922, percent error 11.90\n",
      "Epoch    29, train loss 0.130685, train error 4.62,  val loss 0.363459, percent error 12.00\n",
      "Epoch    30, train loss 0.132678, train error 5.10,  val loss 0.359120, percent error 10.90\n",
      "Epoch    31, train loss 0.130137, train error 4.82,  val loss 0.372603, percent error 11.60\n",
      "Epoch    32, train loss 0.131323, train error 4.95,  val loss 0.390756, percent error 11.20\n",
      "Epoch    33, train loss 0.110421, train error 3.62,  val loss 0.346935, percent error 11.40\n",
      "Epoch    34, train loss 0.115276, train error 4.15,  val loss 0.355038, percent error 10.40\n",
      "Epoch    35, train loss 0.113935, train error 3.95,  val loss 0.380745, percent error 12.20\n",
      "Epoch    36, train loss 0.142243, train error 5.28,  val loss 0.424779, percent error 11.90\n",
      "Epoch    37, train loss 0.136592, train error 4.57,  val loss 0.375353, percent error 10.90\n",
      "Epoch    38, train loss 0.098908, train error 3.18,  val loss 0.350606, percent error 10.50\n",
      "Epoch    39, train loss 0.104833, train error 3.62,  val loss 0.412617, percent error 13.00\n",
      "Epoch    40, train loss 0.079507, train error 2.50,  val loss 0.347772, percent error 9.80\n",
      "Epoch    41, train loss 0.079725, train error 2.32,  val loss 0.379720, percent error 11.00\n",
      "Epoch    42, train loss 0.078993, train error 2.53,  val loss 0.359159, percent error 11.00\n",
      "Epoch    43, train loss 0.074081, train error 2.25,  val loss 0.368854, percent error 10.20\n",
      "Epoch    44, train loss 0.077621, train error 2.62,  val loss 0.380180, percent error 11.40\n",
      "Epoch    45, train loss 0.068688, train error 2.03,  val loss 0.363734, percent error 10.50\n",
      "Epoch    46, train loss 0.065755, train error 2.03,  val loss 0.369056, percent error 10.10\n",
      "Epoch    47, train loss 0.066217, train error 2.05,  val loss 0.383166, percent error 11.10\n",
      "Epoch    48, train loss 0.064975, train error 2.00,  val loss 0.371725, percent error 10.10\n",
      "Epoch    49, train loss 0.061638, train error 1.72,  val loss 0.388864, percent error 11.00\n",
      "Epoch    50, train loss 0.064118, train error 1.82,  val loss 0.384059, percent error 10.50\n",
      "Epoch    51, train loss 0.060875, train error 1.60,  val loss 0.399646, percent error 11.40\n",
      "Epoch    52, train loss 0.059825, train error 1.75,  val loss 0.392583, percent error 10.90\n",
      "Epoch    53, train loss 0.057232, train error 1.50,  val loss 0.388333, percent error 10.90\n",
      "Epoch    54, train loss 0.062562, train error 1.75,  val loss 0.384337, percent error 10.20\n",
      "Epoch    55, train loss 0.064498, train error 2.00,  val loss 0.402086, percent error 10.70\n",
      "Epoch    56, train loss 0.055630, train error 1.55,  val loss 0.401654, percent error 10.30\n",
      "Epoch    57, train loss 0.055642, train error 1.78,  val loss 0.401725, percent error 10.50\n",
      "Epoch    58, train loss 0.061024, train error 1.90,  val loss 0.403757, percent error 10.90\n",
      "Epoch    59, train loss 0.052596, train error 1.32,  val loss 0.410564, percent error 9.90\n",
      "Epoch    60, train loss 0.047865, train error 1.18,  val loss 0.406651, percent error 10.60\n",
      "Epoch    61, train loss 0.048854, train error 1.15,  val loss 0.410187, percent error 10.60\n",
      "Epoch    62, train loss 0.046399, train error 1.12,  val loss 0.406818, percent error 10.70\n",
      "Epoch    63, train loss 0.048903, train error 1.07,  val loss 0.408249, percent error 10.40\n",
      "Epoch    64, train loss 0.046239, train error 1.00,  val loss 0.410803, percent error 10.50\n",
      "Epoch    65, train loss 0.045254, train error 0.95,  val loss 0.411325, percent error 10.80\n",
      "Epoch    66, train loss 0.045205, train error 0.93,  val loss 0.415512, percent error 10.80\n",
      "Epoch    67, train loss 0.044112, train error 1.05,  val loss 0.416434, percent error 11.00\n",
      "Epoch    68, train loss 0.044263, train error 1.03,  val loss 0.420088, percent error 11.00\n",
      "Epoch    69, train loss 0.043687, train error 0.93,  val loss 0.416175, percent error 10.60\n",
      "Epoch    70, train loss 0.044236, train error 0.97,  val loss 0.423337, percent error 10.80\n",
      "Epoch    71, train loss 0.045485, train error 1.05,  val loss 0.429204, percent error 11.00\n",
      "Epoch    72, train loss 0.042709, train error 1.00,  val loss 0.417575, percent error 10.20\n",
      "Epoch    73, train loss 0.042177, train error 1.03,  val loss 0.428166, percent error 10.80\n",
      "Epoch    74, train loss 0.041368, train error 1.05,  val loss 0.429998, percent error 11.00\n",
      "Epoch    75, train loss 0.041513, train error 0.80,  val loss 0.431056, percent error 10.50\n",
      "Epoch    76, train loss 0.041045, train error 1.03,  val loss 0.432044, percent error 10.40\n",
      "Epoch    77, train loss 0.040274, train error 0.85,  val loss 0.437622, percent error 10.70\n",
      "Epoch    78, train loss 0.039914, train error 0.78,  val loss 0.431785, percent error 10.20\n",
      "Epoch    79, train loss 0.040730, train error 0.80,  val loss 0.424750, percent error 10.60\n",
      "Epoch    80, train loss 0.038964, train error 0.78,  val loss 0.434623, percent error 10.90\n",
      "Epoch    81, train loss 0.038828, train error 0.82,  val loss 0.436588, percent error 10.60\n",
      "Epoch    82, train loss 0.039433, train error 0.85,  val loss 0.437206, percent error 10.70\n",
      "Epoch    83, train loss 0.038476, train error 0.78,  val loss 0.437131, percent error 11.10\n",
      "Epoch    84, train loss 0.037894, train error 0.70,  val loss 0.438121, percent error 10.80\n",
      "Epoch    85, train loss 0.037765, train error 0.75,  val loss 0.437014, percent error 10.90\n",
      "Epoch    86, train loss 0.038454, train error 0.80,  val loss 0.442650, percent error 10.70\n",
      "Epoch    87, train loss 0.037793, train error 0.75,  val loss 0.440157, percent error 10.90\n",
      "Epoch    88, train loss 0.037827, train error 0.75,  val loss 0.443797, percent error 10.80\n",
      "Epoch    89, train loss 0.037179, train error 0.72,  val loss 0.436885, percent error 10.70\n",
      "Epoch    90, train loss 0.036941, train error 0.68,  val loss 0.442029, percent error 10.60\n",
      "Epoch    91, train loss 0.037579, train error 0.82,  val loss 0.442758, percent error 10.90\n",
      "Epoch    92, train loss 0.036723, train error 0.70,  val loss 0.441544, percent error 10.70\n",
      "Epoch    93, train loss 0.036523, train error 0.65,  val loss 0.440507, percent error 10.80\n",
      "Epoch    94, train loss 0.036081, train error 0.68,  val loss 0.443999, percent error 10.60\n",
      "Epoch    95, train loss 0.035978, train error 0.68,  val loss 0.445088, percent error 10.70\n",
      "Epoch    96, train loss 0.036066, train error 0.62,  val loss 0.443206, percent error 10.80\n",
      "Epoch    97, train loss 0.035796, train error 0.65,  val loss 0.449732, percent error 10.80\n",
      "Epoch    98, train loss 0.036730, train error 0.72,  val loss 0.450295, percent error 10.90\n",
      "Epoch    99, train loss 0.035285, train error 0.70,  val loss 0.446918, percent error 11.00\n"
     ]
    },
    {
     "data": {
      "text/plain": "[<matplotlib.lines.Line2D at 0x1dafa4879d0>]"
     },
     "execution_count": 31,
     "metadata": {},
     "output_type": "execute_result"
    },
    {
     "data": {
      "text/plain": "[<matplotlib.lines.Line2D at 0x1dafd030dd0>]"
     },
     "execution_count": 31,
     "metadata": {},
     "output_type": "execute_result"
    },
    {
     "data": {
      "text/plain": "(0.0, 100.0)"
     },
     "execution_count": 31,
     "metadata": {},
     "output_type": "execute_result"
    },
    {
     "data": {
      "text/plain": "(0.0, 100.0)"
     },
     "execution_count": 31,
     "metadata": {},
     "output_type": "execute_result"
    },
    {
     "data": {
      "text/plain": "Text(0.5, 0, 'Epoch')"
     },
     "execution_count": 31,
     "metadata": {},
     "output_type": "execute_result"
    },
    {
     "data": {
      "text/plain": "Text(0, 0.5, 'Error')"
     },
     "execution_count": 31,
     "metadata": {},
     "output_type": "execute_result"
    },
    {
     "data": {
      "text/plain": "Text(0.5, 1.0, 'Part I: Validation Result 11.00')"
     },
     "execution_count": 31,
     "metadata": {},
     "output_type": "execute_result"
    },
    {
     "data": {
      "text/plain": "<matplotlib.legend.Legend at 0x1dafce85c90>"
     },
     "execution_count": 31,
     "metadata": {},
     "output_type": "execute_result"
    },
    {
     "data": {
      "text/plain": "<Figure size 640x480 with 1 Axes>",
      "image/png": "[encoded data removed]"
     },
     "metadata": {},
     "output_type": "display_data"
    }
   ]
  },
  {
   "cell_type": "code",
   "outputs": [],
   "source": [],
   "metadata": {
    "collapsed": false
   }
  }
 ]
}
