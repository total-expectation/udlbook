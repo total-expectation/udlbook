{
 "nbformat": 4,
 "nbformat_minor": 0,
 "metadata": {
  "colab": {
   "provenance": [],
   "authorship_tag": "ABX9TyNAcc98STMeyQgh9SbVHWG+",
   "include_colab_link": true
  },
  "kernelspec": {
   "name": "python3",
   "language": "python",
   "display_name": "Python 3 (ipykernel)"
  },
  "language_info": {
   "name": "python"
  }
 },
 "cells": [
  {
   "cell_type": "markdown",
   "metadata": {
    "id": "view-in-github",
    "colab_type": "text"
   },
   "source": [
    "<a href=\"https://colab.research.google.com/github/udlbook/udlbook/blob/main/Notebooks/Chap10/10_5_Convolution_For_MNIST.ipynb\" target=\"_parent\"><img src=\"https://colab.research.google.com/assets/colab-badge.svg\" alt=\"Open In Colab\"/></a>"
   ]
  },
  {
   "cell_type": "markdown",
   "source": [
    "# **Notebook 10.5: Convolution for MNIST**\n",
    "\n",
    "This notebook builds a proper network for 2D convolution.  It works with the MNIST dataset (figure 15.15a), which was the original classic dataset for classifying images.  The network will take a 28x28 grayscale image and classify it into one of 10 classes representing a digit.\n",
    "\n",
    "The code is adapted from https://nextjournal.com/gkoehler/pytorch-mnist\n",
    "\n",
    "Work through the cells below, running each cell in turn. In various places you will see the words \"TO DO\". Follow the instructions at these places and make predictions about what is going to happen or write code to complete the functions.\n",
    "\n",
    "Contact me at udlbookmail@gmail.com if you find any mistakes or have any suggestions.\n"
   ],
   "metadata": {
    "id": "t9vk9Elugvmi"
   }
  },
  {
   "cell_type": "code",
   "source": [
    "import torch\n",
    "import torchvision\n",
    "import torch.nn as nn\n",
    "import torch.nn.functional as F\n",
    "import torch.optim as optim\n",
    "import matplotlib.pyplot as plt\n",
    "import random"
   ],
   "metadata": {
    "id": "YrXWAH7sUWvU",
    "ExecuteTime": {
     "end_time": "2024-04-22T12:03:13.796401700Z",
     "start_time": "2024-04-22T12:03:08.796951800Z"
    }
   },
   "execution_count": 1,
   "outputs": []
  },
  {
   "cell_type": "code",
   "source": [
    "# Run this once to load the train and test data straight into a dataloader class\n",
    "# that will provide the batches\n",
    "batch_size_train = 64\n",
    "batch_size_test = 1000\n",
    "train_loader = torch.utils.data.DataLoader(\n",
    "  torchvision.datasets.MNIST('/files/', train=True, download=True,\n",
    "                             transform=torchvision.transforms.Compose([\n",
    "                               torchvision.transforms.ToTensor(),\n",
    "                               torchvision.transforms.Normalize(\n",
    "                                 (0.1307,), (0.3081,))\n",
    "                             ])),\n",
    "  batch_size=batch_size_train, shuffle=True)\n",
    "\n",
    "test_loader = torch.utils.data.DataLoader(\n",
    "  torchvision.datasets.MNIST('/files/', train=False, download=True,\n",
    "                             transform=torchvision.transforms.Compose([\n",
    "                               torchvision.transforms.ToTensor(),\n",
    "                               torchvision.transforms.Normalize(\n",
    "                                 (0.1307,), (0.3081,))\n",
    "                             ])),\n",
    "  batch_size=batch_size_test, shuffle=True)"
   ],
   "metadata": {
    "id": "wScBGXXFVadm",
    "ExecuteTime": {
     "end_time": "2024-04-22T12:03:13.858907500Z",
     "start_time": "2024-04-22T12:03:13.799405400Z"
    }
   },
   "execution_count": 2,
   "outputs": []
  },
  {
   "cell_type": "code",
   "source": [
    "# Let's draw some of the training data\n",
    "examples = enumerate(test_loader)\n",
    "batch_idx, (example_data, example_targets) = next(examples)\n",
    "\n",
    "fig = plt.figure()\n",
    "for i in range(6):\n",
    "  plt.subplot(2,3,i+1)\n",
    "  plt.tight_layout()\n",
    "  plt.imshow(example_data[i][0], cmap='gray', interpolation='none')\n",
    "  plt.title(\"Ground Truth: {}\".format(example_targets[i]))\n",
    "  plt.xticks([])\n",
    "  plt.yticks([])\n",
    "plt.show()"
   ],
   "metadata": {
    "id": "8bKADvLHbiV5",
    "ExecuteTime": {
     "end_time": "2024-04-22T12:03:14.323651100Z",
     "start_time": "2024-04-22T12:03:13.862908200Z"
    }
   },
   "execution_count": 3,
   "outputs": [
    {
     "data": {
      "text/plain": "<Figure size 640x480 with 6 Axes>",
      "image/png": "[encoded data removed]"
     },
     "metadata": {},
     "output_type": "display_data"
    }
   ]
  },
  {
   "cell_type": "markdown",
   "source": [
    "Define the network.  This is a more typical way to define a network than the sequential structure.  We define a class for the network, and define the parameters in the constructor.  Then we use a function called forward to actually run the network.  It's easy to see how you might use residual connections in this format."
   ],
   "metadata": {
    "id": "_sFvRDGrl4qe"
   }
  },
  {
   "cell_type": "code",
   "source": [
    "from os import X_OK\n",
    "# TODO Change this class to implement\n",
    "# 1. A valid convolution with kernel size 5, 1 input channel and 10 output channels\n",
    "# 2. A max pooling operation over a 2x2 area\n",
    "# 3. A Relu\n",
    "# 4. A valid convolution with kernel size 5, 10 input channels and 20 output channels\n",
    "# 5. A 2D Dropout layer\n",
    "# 6. A max pooling operation over a 2x2 area\n",
    "# 7. A relu\n",
    "# 8. A flattening operation\n",
    "# 9. A fully connected layer mapping from (whatever dimensions we are at-- find out using .shape) to 50\n",
    "# 10. A ReLU\n",
    "# 11. A fully connected layer mapping from 50 to 10 dimensions\n",
    "# 12. A softmax function.\n",
    "\n",
    "# Replace this class which implements a minimal network (which still does okay)\n",
    "class Net(nn.Module):\n",
    "    def __init__(self):\n",
    "        super(Net, self).__init__()\n",
    "        # Valid convolution, 1 channel in, 2 channels out, stride 1, kernel size = 3\n",
    "        self.conv1 = nn.Conv2d(1, 10, kernel_size=5)\n",
    "        self.conv2 = nn.Conv2d(10, 20, kernel_size=5)\n",
    "        # Dropout for convolutions\n",
    "        self.drop = nn.Dropout2d()\n",
    "        # Fully connected layer\n",
    "        self.fc1 = nn.Linear(320, 50)\n",
    "        self.fc2 = nn.Linear(50, 10)\n",
    "\n",
    "    def forward(self, x):\n",
    "        x = self.conv1(x)\n",
    "        x = F.max_pool2d(x,2)\n",
    "        x = F.relu(x)\n",
    "        x = self.conv2(x)\n",
    "        x = self.drop(x)\n",
    "        x = F.max_pool2d(x,2)\n",
    "        x = F.relu(x)\n",
    "        x = x.flatten(1)\n",
    "        x = self.fc1(x)\n",
    "        x = F.relu(x)\n",
    "        x = self.fc2(x)\n",
    "        x = F.log_softmax(x)\n",
    "        return x\n",
    "\n",
    "\n",
    "\n",
    "\n"
   ],
   "metadata": {
    "id": "EQkvw2KOPVl7",
    "ExecuteTime": {
     "end_time": "2024-04-22T12:03:14.324649800Z",
     "start_time": "2024-04-22T12:03:14.322130400Z"
    }
   },
   "execution_count": 4,
   "outputs": []
  },
  {
   "cell_type": "code",
   "source": [
    "# He initialization of weights\n",
    "def weights_init(layer_in):\n",
    "  if isinstance(layer_in, nn.Linear):\n",
    "    nn.init.kaiming_uniform_(layer_in.weight)\n",
    "    layer_in.bias.data.fill_(0.0)"
   ],
   "metadata": {
    "id": "qWZtkCZcU_dg",
    "ExecuteTime": {
     "end_time": "2024-04-22T12:03:14.332244400Z",
     "start_time": "2024-04-22T12:03:14.326725200Z"
    }
   },
   "execution_count": 5,
   "outputs": []
  },
  {
   "cell_type": "code",
   "source": [
    "# Create network\n",
    "model = Net()\n",
    "# Initialize model weights\n",
    "model.apply(weights_init)\n",
    "# Define optimizer\n",
    "optimizer = optim.SGD(model.parameters(), lr=0.01, momentum=0.5)"
   ],
   "metadata": {
    "id": "FslroPJJffrh",
    "ExecuteTime": {
     "end_time": "2024-04-22T12:03:14.341900800Z",
     "start_time": "2024-04-22T12:03:14.330244200Z"
    }
   },
   "execution_count": 6,
   "outputs": []
  },
  {
   "cell_type": "code",
   "source": [
    "# Main training routine\n",
    "def train(epoch):\n",
    "  model.train()\n",
    "  # Get each\n",
    "  for batch_idx, (data, target) in enumerate(train_loader):\n",
    "    optimizer.zero_grad()\n",
    "    output = model(data)\n",
    "    loss = F.nll_loss(output, target)\n",
    "    loss.backward()\n",
    "    optimizer.step()\n",
    "    # Store results\n",
    "    if batch_idx % 10 == 0:\n",
    "      print('Train Epoch: {} [{}/{}]\\tLoss: {:.6f}'.format(\n",
    "        epoch, batch_idx * len(data), len(train_loader.dataset), loss.item()))"
   ],
   "metadata": {
    "id": "xKQd9PzkQ766",
    "ExecuteTime": {
     "end_time": "2024-04-22T12:03:14.342899300Z",
     "start_time": "2024-04-22T12:03:14.339282200Z"
    }
   },
   "execution_count": 7,
   "outputs": []
  },
  {
   "cell_type": "code",
   "source": [
    "# Run on test data\n",
    "def test():\n",
    "  model.eval()\n",
    "  test_loss = 0\n",
    "  correct = 0\n",
    "  with torch.no_grad():\n",
    "    for data, target in test_loader:\n",
    "      output = model(data)\n",
    "      test_loss += F.nll_loss(output, target, size_average=False).item()\n",
    "      pred = output.data.max(1, keepdim=True)[1]\n",
    "      correct += pred.eq(target.data.view_as(pred)).sum()\n",
    "  test_loss /= len(test_loader.dataset)\n",
    "  print('\\nTest set: Avg. loss: {:.4f}, Accuracy: {}/{} ({:.0f}%)\\n'.format(\n",
    "    test_loss, correct, len(test_loader.dataset),\n",
    "    100. * correct / len(test_loader.dataset)))"
   ],
   "metadata": {
    "id": "Byn-f7qWRLxX",
    "ExecuteTime": {
     "end_time": "2024-04-22T12:03:14.350922100Z",
     "start_time": "2024-04-22T12:03:14.342899300Z"
    }
   },
   "execution_count": 8,
   "outputs": []
  },
  {
   "cell_type": "code",
   "source": [
    "# Get initial performance\n",
    "test()\n",
    "# Train for three epochs\n",
    "n_epochs = 3\n",
    "for epoch in range(1, n_epochs + 1):\n",
    "  train(epoch)\n",
    "  test()"
   ],
   "metadata": {
    "id": "YgLaex1pfhqz",
    "ExecuteTime": {
     "end_time": "2024-04-22T12:04:06.570111800Z",
     "start_time": "2024-04-22T12:03:14.348926Z"
    }
   },
   "execution_count": 9,
   "outputs": [
    {
     "name": "stderr",
     "output_type": "stream",
     "text": [
      "C:\\Users\\harry\\AppData\\Local\\Temp\\ipykernel_22208\\1260696457.py:41: UserWarning: Implicit dimension choice for log_softmax has been deprecated. Change the call to include dim=X as an argument.\n",
      "  x = F.log_softmax(x)\n",
      "E:\\training\\udlbook\\env\\Lib\\site-packages\\torch\\nn\\_reduction.py:42: UserWarning: size_average and reduce args will be deprecated, please use reduction='sum' instead.\n",
      "  warnings.warn(warning.format(ret))\n"
     ]
    },
    {
     "name": "stdout",
     "output_type": "stream",
     "text": [
      "\n",
      "Test set: Avg. loss: 2.3607, Accuracy: 767/10000 (8%)\n",
      "\n",
      "Train Epoch: 1 [0/60000]\tLoss: 2.449108\n",
      "Train Epoch: 1 [640/60000]\tLoss: 2.288358\n",
      "Train Epoch: 1 [1280/60000]\tLoss: 2.199326\n",
      "Train Epoch: 1 [1920/60000]\tLoss: 2.075567\n",
      "Train Epoch: 1 [2560/60000]\tLoss: 1.768306\n",
      "Train Epoch: 1 [3200/60000]\tLoss: 1.634356\n",
      "Train Epoch: 1 [3840/60000]\tLoss: 1.408084\n",
      "Train Epoch: 1 [4480/60000]\tLoss: 1.371521\n",
      "Train Epoch: 1 [5120/60000]\tLoss: 1.255409\n",
      "Train Epoch: 1 [5760/60000]\tLoss: 1.138430\n",
      "Train Epoch: 1 [6400/60000]\tLoss: 0.977766\n",
      "Train Epoch: 1 [7040/60000]\tLoss: 0.799686\n",
      "Train Epoch: 1 [7680/60000]\tLoss: 0.663916\n",
      "Train Epoch: 1 [8320/60000]\tLoss: 0.805188\n",
      "Train Epoch: 1 [8960/60000]\tLoss: 1.221298\n",
      "Train Epoch: 1 [9600/60000]\tLoss: 0.524517\n",
      "Train Epoch: 1 [10240/60000]\tLoss: 0.992716\n",
      "Train Epoch: 1 [10880/60000]\tLoss: 0.712126\n",
      "Train Epoch: 1 [11520/60000]\tLoss: 0.676688\n",
      "Train Epoch: 1 [12160/60000]\tLoss: 0.641043\n",
      "Train Epoch: 1 [12800/60000]\tLoss: 0.575450\n",
      "Train Epoch: 1 [13440/60000]\tLoss: 0.663450\n",
      "Train Epoch: 1 [14080/60000]\tLoss: 0.292585\n",
      "Train Epoch: 1 [14720/60000]\tLoss: 0.809157\n",
      "Train Epoch: 1 [15360/60000]\tLoss: 0.591957\n",
      "Train Epoch: 1 [16000/60000]\tLoss: 0.489098\n",
      "Train Epoch: 1 [16640/60000]\tLoss: 0.734713\n",
      "Train Epoch: 1 [17280/60000]\tLoss: 0.485742\n",
      "Train Epoch: 1 [17920/60000]\tLoss: 0.151922\n",
      "Train Epoch: 1 [18560/60000]\tLoss: 0.538703\n",
      "Train Epoch: 1 [19200/60000]\tLoss: 0.374540\n",
      "Train Epoch: 1 [19840/60000]\tLoss: 0.553309\n",
      "Train Epoch: 1 [20480/60000]\tLoss: 0.293745\n",
      "Train Epoch: 1 [21120/60000]\tLoss: 0.497227\n",
      "Train Epoch: 1 [21760/60000]\tLoss: 0.356829\n",
      "Train Epoch: 1 [22400/60000]\tLoss: 0.453387\n",
      "Train Epoch: 1 [23040/60000]\tLoss: 0.500204\n",
      "Train Epoch: 1 [23680/60000]\tLoss: 0.381688\n",
      "Train Epoch: 1 [24320/60000]\tLoss: 0.467996\n",
      "Train Epoch: 1 [24960/60000]\tLoss: 0.406913\n",
      "Train Epoch: 1 [25600/60000]\tLoss: 0.334692\n",
      "Train Epoch: 1 [26240/60000]\tLoss: 0.298278\n",
      "Train Epoch: 1 [26880/60000]\tLoss: 0.333878\n",
      "Train Epoch: 1 [27520/60000]\tLoss: 0.697835\n",
      "Train Epoch: 1 [28160/60000]\tLoss: 0.613953\n",
      "Train Epoch: 1 [28800/60000]\tLoss: 0.323656\n",
      "Train Epoch: 1 [29440/60000]\tLoss: 0.221917\n",
      "Train Epoch: 1 [30080/60000]\tLoss: 0.369633\n",
      "Train Epoch: 1 [30720/60000]\tLoss: 0.153732\n",
      "Train Epoch: 1 [31360/60000]\tLoss: 0.319015\n",
      "Train Epoch: 1 [32000/60000]\tLoss: 0.517626\n",
      "Train Epoch: 1 [32640/60000]\tLoss: 0.179874\n",
      "Train Epoch: 1 [33280/60000]\tLoss: 0.552069\n",
      "Train Epoch: 1 [33920/60000]\tLoss: 0.392284\n",
      "Train Epoch: 1 [34560/60000]\tLoss: 0.311853\n",
      "Train Epoch: 1 [35200/60000]\tLoss: 0.519341\n",
      "Train Epoch: 1 [35840/60000]\tLoss: 0.441450\n",
      "Train Epoch: 1 [36480/60000]\tLoss: 0.207996\n",
      "Train Epoch: 1 [37120/60000]\tLoss: 0.141071\n",
      "Train Epoch: 1 [37760/60000]\tLoss: 0.258580\n",
      "Train Epoch: 1 [38400/60000]\tLoss: 0.290728\n",
      "Train Epoch: 1 [39040/60000]\tLoss: 0.355229\n",
      "Train Epoch: 1 [39680/60000]\tLoss: 0.244002\n",
      "Train Epoch: 1 [40320/60000]\tLoss: 0.433886\n",
      "Train Epoch: 1 [40960/60000]\tLoss: 0.307020\n",
      "Train Epoch: 1 [41600/60000]\tLoss: 0.268677\n",
      "Train Epoch: 1 [42240/60000]\tLoss: 0.217164\n",
      "Train Epoch: 1 [42880/60000]\tLoss: 0.121604\n",
      "Train Epoch: 1 [43520/60000]\tLoss: 0.213718\n",
      "Train Epoch: 1 [44160/60000]\tLoss: 0.316607\n",
      "Train Epoch: 1 [44800/60000]\tLoss: 0.258063\n",
      "Train Epoch: 1 [45440/60000]\tLoss: 0.274872\n",
      "Train Epoch: 1 [46080/60000]\tLoss: 0.525900\n",
      "Train Epoch: 1 [46720/60000]\tLoss: 0.228842\n",
      "Train Epoch: 1 [47360/60000]\tLoss: 0.330012\n",
      "Train Epoch: 1 [48000/60000]\tLoss: 0.621182\n",
      "Train Epoch: 1 [48640/60000]\tLoss: 0.268382\n",
      "Train Epoch: 1 [49280/60000]\tLoss: 0.261062\n",
      "Train Epoch: 1 [49920/60000]\tLoss: 0.532854\n",
      "Train Epoch: 1 [50560/60000]\tLoss: 0.219234\n",
      "Train Epoch: 1 [51200/60000]\tLoss: 0.211387\n",
      "Train Epoch: 1 [51840/60000]\tLoss: 0.422974\n",
      "Train Epoch: 1 [52480/60000]\tLoss: 0.162005\n",
      "Train Epoch: 1 [53120/60000]\tLoss: 0.153126\n",
      "Train Epoch: 1 [53760/60000]\tLoss: 0.191540\n",
      "Train Epoch: 1 [54400/60000]\tLoss: 0.269118\n",
      "Train Epoch: 1 [55040/60000]\tLoss: 0.273570\n",
      "Train Epoch: 1 [55680/60000]\tLoss: 0.413010\n",
      "Train Epoch: 1 [56320/60000]\tLoss: 0.226110\n",
      "Train Epoch: 1 [56960/60000]\tLoss: 0.216741\n",
      "Train Epoch: 1 [57600/60000]\tLoss: 0.224576\n",
      "Train Epoch: 1 [58240/60000]\tLoss: 0.369671\n",
      "Train Epoch: 1 [58880/60000]\tLoss: 0.290876\n",
      "Train Epoch: 1 [59520/60000]\tLoss: 0.242222\n",
      "\n",
      "Test set: Avg. loss: 0.1296, Accuracy: 9594/10000 (96%)\n",
      "\n",
      "Train Epoch: 2 [0/60000]\tLoss: 0.155396\n",
      "Train Epoch: 2 [640/60000]\tLoss: 0.348620\n",
      "Train Epoch: 2 [1280/60000]\tLoss: 0.108169\n",
      "Train Epoch: 2 [1920/60000]\tLoss: 0.210255\n",
      "Train Epoch: 2 [2560/60000]\tLoss: 0.158502\n",
      "Train Epoch: 2 [3200/60000]\tLoss: 0.330397\n",
      "Train Epoch: 2 [3840/60000]\tLoss: 0.493558\n",
      "Train Epoch: 2 [4480/60000]\tLoss: 0.172698\n",
      "Train Epoch: 2 [5120/60000]\tLoss: 0.293500\n",
      "Train Epoch: 2 [5760/60000]\tLoss: 0.266559\n",
      "Train Epoch: 2 [6400/60000]\tLoss: 0.251883\n",
      "Train Epoch: 2 [7040/60000]\tLoss: 0.352205\n",
      "Train Epoch: 2 [7680/60000]\tLoss: 0.132858\n",
      "Train Epoch: 2 [8320/60000]\tLoss: 0.052991\n",
      "Train Epoch: 2 [8960/60000]\tLoss: 0.129738\n",
      "Train Epoch: 2 [9600/60000]\tLoss: 0.128750\n",
      "Train Epoch: 2 [10240/60000]\tLoss: 0.264192\n",
      "Train Epoch: 2 [10880/60000]\tLoss: 0.254948\n",
      "Train Epoch: 2 [11520/60000]\tLoss: 0.082701\n",
      "Train Epoch: 2 [12160/60000]\tLoss: 0.278012\n",
      "Train Epoch: 2 [12800/60000]\tLoss: 0.597147\n",
      "Train Epoch: 2 [13440/60000]\tLoss: 0.305057\n",
      "Train Epoch: 2 [14080/60000]\tLoss: 0.407069\n",
      "Train Epoch: 2 [14720/60000]\tLoss: 0.356414\n",
      "Train Epoch: 2 [15360/60000]\tLoss: 0.329520\n",
      "Train Epoch: 2 [16000/60000]\tLoss: 0.246890\n",
      "Train Epoch: 2 [16640/60000]\tLoss: 0.158167\n",
      "Train Epoch: 2 [17280/60000]\tLoss: 0.250770\n",
      "Train Epoch: 2 [17920/60000]\tLoss: 0.173216\n",
      "Train Epoch: 2 [18560/60000]\tLoss: 0.105947\n",
      "Train Epoch: 2 [19200/60000]\tLoss: 0.162038\n",
      "Train Epoch: 2 [19840/60000]\tLoss: 0.104265\n",
      "Train Epoch: 2 [20480/60000]\tLoss: 0.147281\n",
      "Train Epoch: 2 [21120/60000]\tLoss: 0.204996\n",
      "Train Epoch: 2 [21760/60000]\tLoss: 0.098387\n",
      "Train Epoch: 2 [22400/60000]\tLoss: 0.152899\n",
      "Train Epoch: 2 [23040/60000]\tLoss: 0.248843\n",
      "Train Epoch: 2 [23680/60000]\tLoss: 0.162538\n",
      "Train Epoch: 2 [24320/60000]\tLoss: 0.258386\n",
      "Train Epoch: 2 [24960/60000]\tLoss: 0.249232\n",
      "Train Epoch: 2 [25600/60000]\tLoss: 0.136292\n",
      "Train Epoch: 2 [26240/60000]\tLoss: 0.180151\n",
      "Train Epoch: 2 [26880/60000]\tLoss: 0.119707\n",
      "Train Epoch: 2 [27520/60000]\tLoss: 0.391653\n",
      "Train Epoch: 2 [28160/60000]\tLoss: 0.182988\n",
      "Train Epoch: 2 [28800/60000]\tLoss: 0.118989\n",
      "Train Epoch: 2 [29440/60000]\tLoss: 0.492757\n",
      "Train Epoch: 2 [30080/60000]\tLoss: 0.506183\n",
      "Train Epoch: 2 [30720/60000]\tLoss: 0.229764\n",
      "Train Epoch: 2 [31360/60000]\tLoss: 0.192265\n",
      "Train Epoch: 2 [32000/60000]\tLoss: 0.157781\n",
      "Train Epoch: 2 [32640/60000]\tLoss: 0.273754\n",
      "Train Epoch: 2 [33280/60000]\tLoss: 0.157102\n",
      "Train Epoch: 2 [33920/60000]\tLoss: 0.324744\n",
      "Train Epoch: 2 [34560/60000]\tLoss: 0.179395\n",
      "Train Epoch: 2 [35200/60000]\tLoss: 0.417063\n",
      "Train Epoch: 2 [35840/60000]\tLoss: 0.258061\n",
      "Train Epoch: 2 [36480/60000]\tLoss: 0.118499\n",
      "Train Epoch: 2 [37120/60000]\tLoss: 0.333237\n",
      "Train Epoch: 2 [37760/60000]\tLoss: 0.205484\n",
      "Train Epoch: 2 [38400/60000]\tLoss: 0.114803\n",
      "Train Epoch: 2 [39040/60000]\tLoss: 0.200984\n",
      "Train Epoch: 2 [39680/60000]\tLoss: 0.257599\n",
      "Train Epoch: 2 [40320/60000]\tLoss: 0.130892\n",
      "Train Epoch: 2 [40960/60000]\tLoss: 0.288931\n",
      "Train Epoch: 2 [41600/60000]\tLoss: 0.137465\n",
      "Train Epoch: 2 [42240/60000]\tLoss: 0.143350\n",
      "Train Epoch: 2 [42880/60000]\tLoss: 0.201585\n",
      "Train Epoch: 2 [43520/60000]\tLoss: 0.252246\n",
      "Train Epoch: 2 [44160/60000]\tLoss: 0.086894\n",
      "Train Epoch: 2 [44800/60000]\tLoss: 0.197357\n",
      "Train Epoch: 2 [45440/60000]\tLoss: 0.453852\n",
      "Train Epoch: 2 [46080/60000]\tLoss: 0.088856\n",
      "Train Epoch: 2 [46720/60000]\tLoss: 0.113196\n",
      "Train Epoch: 2 [47360/60000]\tLoss: 0.363663\n",
      "Train Epoch: 2 [48000/60000]\tLoss: 0.074324\n",
      "Train Epoch: 2 [48640/60000]\tLoss: 0.163195\n",
      "Train Epoch: 2 [49280/60000]\tLoss: 0.191156\n",
      "Train Epoch: 2 [49920/60000]\tLoss: 0.209300\n",
      "Train Epoch: 2 [50560/60000]\tLoss: 0.186998\n",
      "Train Epoch: 2 [51200/60000]\tLoss: 0.192088\n",
      "Train Epoch: 2 [51840/60000]\tLoss: 0.376850\n",
      "Train Epoch: 2 [52480/60000]\tLoss: 0.169484\n",
      "Train Epoch: 2 [53120/60000]\tLoss: 0.273310\n",
      "Train Epoch: 2 [53760/60000]\tLoss: 0.132165\n",
      "Train Epoch: 2 [54400/60000]\tLoss: 0.390621\n",
      "Train Epoch: 2 [55040/60000]\tLoss: 0.103432\n",
      "Train Epoch: 2 [55680/60000]\tLoss: 0.240695\n",
      "Train Epoch: 2 [56320/60000]\tLoss: 0.087788\n",
      "Train Epoch: 2 [56960/60000]\tLoss: 0.265902\n",
      "Train Epoch: 2 [57600/60000]\tLoss: 0.161746\n",
      "Train Epoch: 2 [58240/60000]\tLoss: 0.164446\n",
      "Train Epoch: 2 [58880/60000]\tLoss: 0.181678\n",
      "Train Epoch: 2 [59520/60000]\tLoss: 0.233999\n",
      "\n",
      "Test set: Avg. loss: 0.0886, Accuracy: 9730/10000 (97%)\n",
      "\n",
      "Train Epoch: 3 [0/60000]\tLoss: 0.130077\n",
      "Train Epoch: 3 [640/60000]\tLoss: 0.102330\n",
      "Train Epoch: 3 [1280/60000]\tLoss: 0.117179\n",
      "Train Epoch: 3 [1920/60000]\tLoss: 0.132417\n",
      "Train Epoch: 3 [2560/60000]\tLoss: 0.131781\n",
      "Train Epoch: 3 [3200/60000]\tLoss: 0.108676\n",
      "Train Epoch: 3 [3840/60000]\tLoss: 0.118505\n",
      "Train Epoch: 3 [4480/60000]\tLoss: 0.214898\n",
      "Train Epoch: 3 [5120/60000]\tLoss: 0.193045\n",
      "Train Epoch: 3 [5760/60000]\tLoss: 0.144887\n",
      "Train Epoch: 3 [6400/60000]\tLoss: 0.134538\n",
      "Train Epoch: 3 [7040/60000]\tLoss: 0.116325\n",
      "Train Epoch: 3 [7680/60000]\tLoss: 0.077331\n",
      "Train Epoch: 3 [8320/60000]\tLoss: 0.143955\n",
      "Train Epoch: 3 [8960/60000]\tLoss: 0.531719\n",
      "Train Epoch: 3 [9600/60000]\tLoss: 0.135646\n",
      "Train Epoch: 3 [10240/60000]\tLoss: 0.095167\n",
      "Train Epoch: 3 [10880/60000]\tLoss: 0.174312\n",
      "Train Epoch: 3 [11520/60000]\tLoss: 0.396339\n",
      "Train Epoch: 3 [12160/60000]\tLoss: 0.075924\n",
      "Train Epoch: 3 [12800/60000]\tLoss: 0.319085\n",
      "Train Epoch: 3 [13440/60000]\tLoss: 0.148929\n",
      "Train Epoch: 3 [14080/60000]\tLoss: 0.182997\n",
      "Train Epoch: 3 [14720/60000]\tLoss: 0.056154\n",
      "Train Epoch: 3 [15360/60000]\tLoss: 0.048160\n",
      "Train Epoch: 3 [16000/60000]\tLoss: 0.116756\n",
      "Train Epoch: 3 [16640/60000]\tLoss: 0.089462\n",
      "Train Epoch: 3 [17280/60000]\tLoss: 0.157792\n",
      "Train Epoch: 3 [17920/60000]\tLoss: 0.159807\n",
      "Train Epoch: 3 [18560/60000]\tLoss: 0.071697\n",
      "Train Epoch: 3 [19200/60000]\tLoss: 0.119012\n",
      "Train Epoch: 3 [19840/60000]\tLoss: 0.114968\n",
      "Train Epoch: 3 [20480/60000]\tLoss: 0.081137\n",
      "Train Epoch: 3 [21120/60000]\tLoss: 0.080801\n",
      "Train Epoch: 3 [21760/60000]\tLoss: 0.063059\n",
      "Train Epoch: 3 [22400/60000]\tLoss: 0.077684\n",
      "Train Epoch: 3 [23040/60000]\tLoss: 0.229840\n",
      "Train Epoch: 3 [23680/60000]\tLoss: 0.215731\n",
      "Train Epoch: 3 [24320/60000]\tLoss: 0.075498\n",
      "Train Epoch: 3 [24960/60000]\tLoss: 0.131674\n",
      "Train Epoch: 3 [25600/60000]\tLoss: 0.257009\n",
      "Train Epoch: 3 [26240/60000]\tLoss: 0.132425\n",
      "Train Epoch: 3 [26880/60000]\tLoss: 0.127227\n",
      "Train Epoch: 3 [27520/60000]\tLoss: 0.139564\n",
      "Train Epoch: 3 [28160/60000]\tLoss: 0.214831\n",
      "Train Epoch: 3 [28800/60000]\tLoss: 0.103274\n",
      "Train Epoch: 3 [29440/60000]\tLoss: 0.099397\n",
      "Train Epoch: 3 [30080/60000]\tLoss: 0.108392\n",
      "Train Epoch: 3 [30720/60000]\tLoss: 0.250592\n",
      "Train Epoch: 3 [31360/60000]\tLoss: 0.228395\n",
      "Train Epoch: 3 [32000/60000]\tLoss: 0.125766\n",
      "Train Epoch: 3 [32640/60000]\tLoss: 0.020973\n",
      "Train Epoch: 3 [33280/60000]\tLoss: 0.173323\n",
      "Train Epoch: 3 [33920/60000]\tLoss: 0.107810\n",
      "Train Epoch: 3 [34560/60000]\tLoss: 0.045918\n",
      "Train Epoch: 3 [35200/60000]\tLoss: 0.175598\n",
      "Train Epoch: 3 [35840/60000]\tLoss: 0.268738\n",
      "Train Epoch: 3 [36480/60000]\tLoss: 0.176751\n",
      "Train Epoch: 3 [37120/60000]\tLoss: 0.161011\n",
      "Train Epoch: 3 [37760/60000]\tLoss: 0.174692\n",
      "Train Epoch: 3 [38400/60000]\tLoss: 0.142422\n",
      "Train Epoch: 3 [39040/60000]\tLoss: 0.162807\n",
      "Train Epoch: 3 [39680/60000]\tLoss: 0.083205\n",
      "Train Epoch: 3 [40320/60000]\tLoss: 0.045140\n",
      "Train Epoch: 3 [40960/60000]\tLoss: 0.161422\n",
      "Train Epoch: 3 [41600/60000]\tLoss: 0.158157\n",
      "Train Epoch: 3 [42240/60000]\tLoss: 0.224229\n",
      "Train Epoch: 3 [42880/60000]\tLoss: 0.153533\n",
      "Train Epoch: 3 [43520/60000]\tLoss: 0.092447\n",
      "Train Epoch: 3 [44160/60000]\tLoss: 0.049003\n",
      "Train Epoch: 3 [44800/60000]\tLoss: 0.109364\n",
      "Train Epoch: 3 [45440/60000]\tLoss: 0.108321\n",
      "Train Epoch: 3 [46080/60000]\tLoss: 0.105532\n",
      "Train Epoch: 3 [46720/60000]\tLoss: 0.248166\n",
      "Train Epoch: 3 [47360/60000]\tLoss: 0.208921\n",
      "Train Epoch: 3 [48000/60000]\tLoss: 0.218525\n",
      "Train Epoch: 3 [48640/60000]\tLoss: 0.078350\n",
      "Train Epoch: 3 [49280/60000]\tLoss: 0.277514\n",
      "Train Epoch: 3 [49920/60000]\tLoss: 0.197212\n",
      "Train Epoch: 3 [50560/60000]\tLoss: 0.256074\n",
      "Train Epoch: 3 [51200/60000]\tLoss: 0.213543\n",
      "Train Epoch: 3 [51840/60000]\tLoss: 0.094100\n",
      "Train Epoch: 3 [52480/60000]\tLoss: 0.261516\n",
      "Train Epoch: 3 [53120/60000]\tLoss: 0.251348\n",
      "Train Epoch: 3 [53760/60000]\tLoss: 0.375407\n",
      "Train Epoch: 3 [54400/60000]\tLoss: 0.204199\n",
      "Train Epoch: 3 [55040/60000]\tLoss: 0.058044\n",
      "Train Epoch: 3 [55680/60000]\tLoss: 0.051154\n",
      "Train Epoch: 3 [56320/60000]\tLoss: 0.396463\n",
      "Train Epoch: 3 [56960/60000]\tLoss: 0.177614\n",
      "Train Epoch: 3 [57600/60000]\tLoss: 0.089732\n",
      "Train Epoch: 3 [58240/60000]\tLoss: 0.066926\n",
      "Train Epoch: 3 [58880/60000]\tLoss: 0.094365\n",
      "Train Epoch: 3 [59520/60000]\tLoss: 0.088892\n",
      "\n",
      "Test set: Avg. loss: 0.0701, Accuracy: 9791/10000 (98%)\n"
     ]
    }
   ]
  },
  {
   "cell_type": "code",
   "source": [
    "# Run network on data we got before and show predictions\n",
    "output = model(example_data)\n",
    "\n",
    "fig = plt.figure()\n",
    "for i in range(10):\n",
    "  plt.subplot(5,5,i+1)\n",
    "  plt.tight_layout()\n",
    "  plt.imshow(example_data[i][0], cmap='gray', interpolation='none')\n",
    "  plt.title(\"Prediction: {}\".format(\n",
    "    output.data.max(1, keepdim=True)[1][i].item()))\n",
    "  plt.xticks([])\n",
    "  plt.yticks([])\n",
    "plt.show()"
   ],
   "metadata": {
    "id": "o7fRUAy9Se1B",
    "ExecuteTime": {
     "end_time": "2024-04-22T12:04:07.049108Z",
     "start_time": "2024-04-22T12:04:06.564113300Z"
    }
   },
   "execution_count": 10,
   "outputs": [
    {
     "name": "stderr",
     "output_type": "stream",
     "text": [
      "C:\\Users\\harry\\AppData\\Local\\Temp\\ipykernel_22208\\1260696457.py:41: UserWarning: Implicit dimension choice for log_softmax has been deprecated. Change the call to include dim=X as an argument.\n",
      "  x = F.log_softmax(x)\n"
     ]
    },
    {
     "data": {
      "text/plain": "<Figure size 640x480 with 10 Axes>",
      "image/png": "[encoded data removed]"
     },
     "metadata": {},
     "output_type": "display_data"
    }
   ]
  }
 ]
}
