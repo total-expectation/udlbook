{
 "nbformat": 4,
 "nbformat_minor": 0,
 "metadata": {
  "colab": {
   "provenance": [],
   "authorship_tag": "ABX9TyNAcc98STMeyQgh9SbVHWG+",
   "include_colab_link": true
  },
  "kernelspec": {
   "name": "python3",
   "language": "python",
   "display_name": "Python 3 (ipykernel)"
  },
  "language_info": {
   "name": "python"
  }
 },
 "cells": [
  {
   "cell_type": "markdown",
   "metadata": {
    "id": "view-in-github",
    "colab_type": "text"
   },
   "source": [
    "<a href=\"https://colab.research.google.com/github/udlbook/udlbook/blob/main/Notebooks/Chap10/10_5_Convolution_For_MNIST.ipynb\" target=\"_parent\"><img src=\"https://colab.research.google.com/assets/colab-badge.svg\" alt=\"Open In Colab\"/></a>"
   ]
  },
  {
   "cell_type": "markdown",
   "source": [
    "# **Notebook 10.5: Convolution for MNIST**\n",
    "\n",
    "This notebook builds a proper network for 2D convolution.  It works with the MNIST dataset (figure 15.15a), which was the original classic dataset for classifying images.  The network will take a 28x28 grayscale image and classify it into one of 10 classes representing a digit.\n",
    "\n",
    "The code is adapted from https://nextjournal.com/gkoehler/pytorch-mnist\n",
    "\n",
    "Work through the cells below, running each cell in turn. In various places you will see the words \"TO DO\". Follow the instructions at these places and make predictions about what is going to happen or write code to complete the functions.\n",
    "\n",
    "Contact me at udlbookmail@gmail.com if you find any mistakes or have any suggestions.\n"
   ],
   "metadata": {
    "id": "t9vk9Elugvmi"
   }
  },
  {
   "cell_type": "code",
   "source": [
    "import torch\n",
    "import torchvision\n",
    "import torch.nn as nn\n",
    "import torch.nn.functional as F\n",
    "import torch.optim as optim\n",
    "import matplotlib.pyplot as plt\n",
    "import random\n",
    "\n",
    "import warnings\n",
    "warnings.filterwarnings('ignore')"
   ],
   "metadata": {
    "id": "YrXWAH7sUWvU",
    "ExecuteTime": {
     "end_time": "2024-04-23T10:04:56.728202600Z",
     "start_time": "2024-04-23T10:04:56.722745300Z"
    }
   },
   "execution_count": 23,
   "outputs": []
  },
  {
   "cell_type": "code",
   "source": [
    "# Run this once to load the train and test data straight into a dataloader class\n",
    "# that will provide the batches\n",
    "batch_size_train = 64\n",
    "batch_size_test = 1000\n",
    "train_loader = torch.utils.data.DataLoader(\n",
    "  torchvision.datasets.MNIST('/files/', train=True, download=True,\n",
    "                             transform=torchvision.transforms.Compose([\n",
    "                               torchvision.transforms.ToTensor(),\n",
    "                               torchvision.transforms.Normalize(\n",
    "                                 (0.1307,), (0.3081,))\n",
    "                             ])),\n",
    "  batch_size=batch_size_train, shuffle=True)\n",
    "\n",
    "test_loader = torch.utils.data.DataLoader(\n",
    "  torchvision.datasets.MNIST('/files/', train=False, download=True,\n",
    "                             transform=torchvision.transforms.Compose([\n",
    "                               torchvision.transforms.ToTensor(),\n",
    "                               torchvision.transforms.Normalize(\n",
    "                                 (0.1307,), (0.3081,))\n",
    "                             ])),\n",
    "  batch_size=batch_size_test, shuffle=True)"
   ],
   "metadata": {
    "id": "wScBGXXFVadm",
    "ExecuteTime": {
     "end_time": "2024-04-23T10:04:56.785948400Z",
     "start_time": "2024-04-23T10:04:56.728202600Z"
    }
   },
   "execution_count": 24,
   "outputs": []
  },
  {
   "cell_type": "code",
   "source": [
    "# Let's draw some of the training data\n",
    "examples = enumerate(test_loader)\n",
    "batch_idx, (example_data, example_targets) = next(examples)\n",
    "\n",
    "fig = plt.figure()\n",
    "for i in range(6):\n",
    "  plt.subplot(2,3,i+1)\n",
    "  plt.tight_layout()\n",
    "  plt.imshow(example_data[i][0], cmap='gray', interpolation='none')\n",
    "  plt.title(\"Ground Truth: {}\".format(example_targets[i]))\n",
    "  plt.xticks([])\n",
    "  plt.yticks([])\n",
    "plt.show()"
   ],
   "metadata": {
    "id": "8bKADvLHbiV5",
    "ExecuteTime": {
     "end_time": "2024-04-23T10:04:57.197547600Z",
     "start_time": "2024-04-23T10:04:56.773944600Z"
    }
   },
   "execution_count": 25,
   "outputs": [
    {
     "data": {
      "text/plain": "<Figure size 640x480 with 6 Axes>",
      "image/png": "[encoded data removed]"
     },
     "metadata": {},
     "output_type": "display_data"
    }
   ]
  },
  {
   "cell_type": "markdown",
   "source": [
    "Define the network.  This is a more typical way to define a network than the sequential structure.  We define a class for the network, and define the parameters in the constructor.  Then we use a function called forward to actually run the network.  It's easy to see how you might use residual connections in this format."
   ],
   "metadata": {
    "id": "_sFvRDGrl4qe"
   }
  },
  {
   "cell_type": "code",
   "source": [
    "from os import X_OK\n",
    "# TODO Change this class to implement\n",
    "# 1. A valid convolution with kernel size 5, 1 input channel and 10 output channels\n",
    "# 2. A max pooling operation over a 2x2 area\n",
    "# 3. A Relu\n",
    "# 4. A valid convolution with kernel size 5, 10 input channels and 20 output channels\n",
    "# 5. A 2D Dropout layer\n",
    "# 6. A max pooling operation over a 2x2 area\n",
    "# 7. A relu\n",
    "# 8. A flattening operation\n",
    "# 9. A fully connected layer mapping from (whatever dimensions we are at-- find out using .shape) to 50\n",
    "# 10. A ReLU\n",
    "# 11. A fully connected layer mapping from 50 to 10 dimensions\n",
    "# 12. A softmax function.\n",
    "\n",
    "# Replace this class which implements a minimal network (which still does okay)\n",
    "class Net(nn.Module):\n",
    "    def __init__(self):\n",
    "        super(Net, self).__init__()\n",
    "        self.conv1 = nn.Conv2d(1, 10, kernel_size=5)\n",
    "        self.conv2 = nn.Conv2d(10, 20, kernel_size=5)\n",
    "        # Dropout for convolutions\n",
    "        self.drop = nn.Dropout2d()\n",
    "        # Fully connected layer\n",
    "        self.fc1 = nn.Linear(320, 50)\n",
    "        self.fc2 = nn.Linear(50, 10)\n",
    "\n",
    "    def forward(self, x):\n",
    "        x = self.conv1(x)  # (28 - 5)/1 + 1 = 24\n",
    "        x = F.max_pool2d(x,2) # (24 - 2) / 2 + 1 = 12\n",
    "        x = F.relu(x)  # 12\n",
    "        x = self.conv2(x)  # (12 - 5)/1 + 1 = 8\n",
    "        x = self.drop(x)  # 8\n",
    "        x = F.max_pool2d(x,2)  # (8-2)/2 + 1 = 4\n",
    "        x = F.relu(x)  # 4\n",
    "        x = x.flatten(1)  # 20 * 4 * 4 = 320, but the first dimen is probably batch size\n",
    "        x = self.fc1(x) # (batch_size, 320)\n",
    "        x = F.relu(x)  # batch, 50\n",
    "        x = self.fc2(x) # batch, 10\n",
    "        x = F.log_softmax(x) # batch, 10\n",
    "        return x\n",
    "\n",
    "\n",
    "\n",
    "\n"
   ],
   "metadata": {
    "id": "EQkvw2KOPVl7",
    "ExecuteTime": {
     "end_time": "2024-04-23T10:04:57.205084600Z",
     "start_time": "2024-04-23T10:04:57.196502400Z"
    }
   },
   "execution_count": 26,
   "outputs": []
  },
  {
   "cell_type": "code",
   "source": [
    "# He initialization of weights\n",
    "def weights_init(layer_in):\n",
    "  if isinstance(layer_in, nn.Linear):\n",
    "    nn.init.kaiming_uniform_(layer_in.weight)\n",
    "    layer_in.bias.data.fill_(0.0)"
   ],
   "metadata": {
    "id": "qWZtkCZcU_dg",
    "ExecuteTime": {
     "end_time": "2024-04-23T10:04:57.213561700Z",
     "start_time": "2024-04-23T10:04:57.200097100Z"
    }
   },
   "execution_count": 27,
   "outputs": []
  },
  {
   "cell_type": "code",
   "source": [
    "# Create network\n",
    "model = Net()\n",
    "# Initialize model weights\n",
    "model.apply(weights_init)\n",
    "# Define optimizer\n",
    "optimizer = optim.SGD(model.parameters(), lr=0.01, momentum=0.5)"
   ],
   "metadata": {
    "id": "FslroPJJffrh",
    "ExecuteTime": {
     "end_time": "2024-04-23T10:04:57.237719Z",
     "start_time": "2024-04-23T10:04:57.211571200Z"
    }
   },
   "execution_count": 28,
   "outputs": []
  },
  {
   "cell_type": "code",
   "source": [
    "# Main training routine\n",
    "def train(epoch):\n",
    "  model.train()\n",
    "  # Get each\n",
    "  for batch_idx, (data, target) in enumerate(train_loader):\n",
    "    optimizer.zero_grad()\n",
    "    output = model(data)\n",
    "    loss = F.nll_loss(output, target)\n",
    "    loss.backward()\n",
    "    optimizer.step()\n",
    "    # Store results\n",
    "    if batch_idx % 10 == 0:\n",
    "      print('Train Epoch: {} [{}/{}]\\tLoss: {:.6f}'.format(\n",
    "        epoch, batch_idx * len(data), len(train_loader.dataset), loss.item()))"
   ],
   "metadata": {
    "id": "xKQd9PzkQ766",
    "ExecuteTime": {
     "end_time": "2024-04-23T10:04:57.237719Z",
     "start_time": "2024-04-23T10:04:57.219161300Z"
    }
   },
   "execution_count": 29,
   "outputs": []
  },
  {
   "cell_type": "code",
   "source": [
    "# Run on test data\n",
    "def test():\n",
    "  model.eval()\n",
    "  test_loss = 0\n",
    "  correct = 0\n",
    "  with torch.no_grad():\n",
    "    for data, target in test_loader:\n",
    "      output = model(data)\n",
    "      test_loss += F.nll_loss(output, target, size_average=False).item()\n",
    "      pred = output.data.max(1, keepdim=True)[1]\n",
    "      correct += pred.eq(target.data.view_as(pred)).sum()\n",
    "  test_loss /= len(test_loader.dataset)\n",
    "  print('\\nTest set: Avg. loss: {:.4f}, Accuracy: {}/{} ({:.0f}%)\\n'.format(\n",
    "    test_loss, correct, len(test_loader.dataset),\n",
    "    100. * correct / len(test_loader.dataset)))"
   ],
   "metadata": {
    "id": "Byn-f7qWRLxX",
    "ExecuteTime": {
     "end_time": "2024-04-23T10:04:57.237719Z",
     "start_time": "2024-04-23T10:04:57.224397900Z"
    }
   },
   "execution_count": 30,
   "outputs": []
  },
  {
   "cell_type": "code",
   "source": [
    "# Get initial performance\n",
    "test()\n",
    "# Train for three epochs\n",
    "n_epochs = 3\n",
    "for epoch in range(1, n_epochs + 1):\n",
    "  train(epoch)\n",
    "  test()"
   ],
   "metadata": {
    "id": "YgLaex1pfhqz",
    "is_executing": true,
    "ExecuteTime": {
     "start_time": "2024-04-23T10:04:57.227717900Z"
    }
   },
   "execution_count": null,
   "outputs": [
    {
     "name": "stdout",
     "output_type": "stream",
     "text": [
      "\n",
      "Test set: Avg. loss: 2.4143, Accuracy: 463/10000 (5%)\n",
      "\n",
      "Train Epoch: 1 [0/60000]\tLoss: 2.626725\n",
      "Train Epoch: 1 [640/60000]\tLoss: 2.162781\n",
      "Train Epoch: 1 [1280/60000]\tLoss: 2.064764\n",
      "Train Epoch: 1 [1920/60000]\tLoss: 1.727884\n",
      "Train Epoch: 1 [2560/60000]\tLoss: 1.529771\n",
      "Train Epoch: 1 [3200/60000]\tLoss: 1.525646\n",
      "Train Epoch: 1 [3840/60000]\tLoss: 1.354348\n",
      "Train Epoch: 1 [4480/60000]\tLoss: 1.249224\n",
      "Train Epoch: 1 [5120/60000]\tLoss: 1.079586\n",
      "Train Epoch: 1 [5760/60000]\tLoss: 0.935853\n",
      "Train Epoch: 1 [6400/60000]\tLoss: 0.866187\n",
      "Train Epoch: 1 [7040/60000]\tLoss: 0.826667\n",
      "Train Epoch: 1 [7680/60000]\tLoss: 0.835430\n",
      "Train Epoch: 1 [8320/60000]\tLoss: 0.858622\n",
      "Train Epoch: 1 [8960/60000]\tLoss: 0.548613\n",
      "Train Epoch: 1 [9600/60000]\tLoss: 0.682766\n",
      "Train Epoch: 1 [10240/60000]\tLoss: 0.620885\n",
      "Train Epoch: 1 [10880/60000]\tLoss: 0.403221\n",
      "Train Epoch: 1 [11520/60000]\tLoss: 0.562405\n",
      "Train Epoch: 1 [12160/60000]\tLoss: 0.480378\n",
      "Train Epoch: 1 [12800/60000]\tLoss: 0.499276\n",
      "Train Epoch: 1 [13440/60000]\tLoss: 0.619746\n",
      "Train Epoch: 1 [14080/60000]\tLoss: 0.532354\n",
      "Train Epoch: 1 [14720/60000]\tLoss: 0.354521\n",
      "Train Epoch: 1 [15360/60000]\tLoss: 0.549478\n",
      "Train Epoch: 1 [16000/60000]\tLoss: 0.342837\n",
      "Train Epoch: 1 [16640/60000]\tLoss: 0.522249\n",
      "Train Epoch: 1 [17280/60000]\tLoss: 0.301598\n",
      "Train Epoch: 1 [17920/60000]\tLoss: 0.417341\n",
      "Train Epoch: 1 [18560/60000]\tLoss: 0.406374\n",
      "Train Epoch: 1 [19200/60000]\tLoss: 0.450789\n",
      "Train Epoch: 1 [19840/60000]\tLoss: 0.458545\n",
      "Train Epoch: 1 [20480/60000]\tLoss: 0.433698\n",
      "Train Epoch: 1 [21120/60000]\tLoss: 0.541935\n",
      "Train Epoch: 1 [21760/60000]\tLoss: 0.414135\n",
      "Train Epoch: 1 [22400/60000]\tLoss: 0.313324\n",
      "Train Epoch: 1 [23040/60000]\tLoss: 0.294222\n",
      "Train Epoch: 1 [23680/60000]\tLoss: 0.414485\n",
      "Train Epoch: 1 [24320/60000]\tLoss: 0.244246\n",
      "Train Epoch: 1 [24960/60000]\tLoss: 0.345983\n",
      "Train Epoch: 1 [25600/60000]\tLoss: 0.593451\n",
      "Train Epoch: 1 [26240/60000]\tLoss: 0.380859\n",
      "Train Epoch: 1 [26880/60000]\tLoss: 0.211836\n",
      "Train Epoch: 1 [27520/60000]\tLoss: 0.384590\n",
      "Train Epoch: 1 [28160/60000]\tLoss: 0.303234\n",
      "Train Epoch: 1 [28800/60000]\tLoss: 0.359718\n",
      "Train Epoch: 1 [29440/60000]\tLoss: 0.114901\n",
      "Train Epoch: 1 [30080/60000]\tLoss: 0.270407\n",
      "Train Epoch: 1 [30720/60000]\tLoss: 0.316305\n",
      "Train Epoch: 1 [31360/60000]\tLoss: 0.479967\n",
      "Train Epoch: 1 [32000/60000]\tLoss: 0.266204\n",
      "Train Epoch: 1 [32640/60000]\tLoss: 0.309957\n",
      "Train Epoch: 1 [33280/60000]\tLoss: 0.383022\n",
      "Train Epoch: 1 [33920/60000]\tLoss: 0.238416\n",
      "Train Epoch: 1 [34560/60000]\tLoss: 0.574786\n",
      "Train Epoch: 1 [35200/60000]\tLoss: 0.449558\n",
      "Train Epoch: 1 [35840/60000]\tLoss: 0.375785\n",
      "Train Epoch: 1 [36480/60000]\tLoss: 0.234019\n",
      "Train Epoch: 1 [37120/60000]\tLoss: 0.342523\n",
      "Train Epoch: 1 [37760/60000]\tLoss: 0.360316\n",
      "Train Epoch: 1 [38400/60000]\tLoss: 0.200048\n",
      "Train Epoch: 1 [39040/60000]\tLoss: 0.554957\n",
      "Train Epoch: 1 [39680/60000]\tLoss: 0.195228\n",
      "Train Epoch: 1 [40320/60000]\tLoss: 0.085382\n",
      "Train Epoch: 1 [40960/60000]\tLoss: 0.218966\n",
      "Train Epoch: 1 [41600/60000]\tLoss: 0.231504\n",
      "Train Epoch: 1 [42240/60000]\tLoss: 0.248228\n",
      "Train Epoch: 1 [42880/60000]\tLoss: 0.284327\n",
      "Train Epoch: 1 [43520/60000]\tLoss: 0.353694\n",
      "Train Epoch: 1 [44160/60000]\tLoss: 0.276435\n",
      "Train Epoch: 1 [44800/60000]\tLoss: 0.124558\n",
      "Train Epoch: 1 [45440/60000]\tLoss: 0.270286\n",
      "Train Epoch: 1 [46080/60000]\tLoss: 0.352408\n",
      "Train Epoch: 1 [46720/60000]\tLoss: 0.195198\n",
      "Train Epoch: 1 [47360/60000]\tLoss: 0.191972\n",
      "Train Epoch: 1 [48000/60000]\tLoss: 0.573826\n",
      "Train Epoch: 1 [48640/60000]\tLoss: 0.173187\n",
      "Train Epoch: 1 [49280/60000]\tLoss: 0.410414\n",
      "Train Epoch: 1 [49920/60000]\tLoss: 0.402510\n",
      "Train Epoch: 1 [50560/60000]\tLoss: 0.424630\n",
      "Train Epoch: 1 [51200/60000]\tLoss: 0.303391\n",
      "Train Epoch: 1 [51840/60000]\tLoss: 0.194525\n",
      "Train Epoch: 1 [52480/60000]\tLoss: 0.197293\n",
      "Train Epoch: 1 [53120/60000]\tLoss: 0.130525\n",
      "Train Epoch: 1 [53760/60000]\tLoss: 0.254803\n",
      "Train Epoch: 1 [54400/60000]\tLoss: 0.292796\n",
      "Train Epoch: 1 [55040/60000]\tLoss: 0.236163\n",
      "Train Epoch: 1 [55680/60000]\tLoss: 0.143595\n",
      "Train Epoch: 1 [56320/60000]\tLoss: 0.285226\n",
      "Train Epoch: 1 [56960/60000]\tLoss: 0.207356\n",
      "Train Epoch: 1 [57600/60000]\tLoss: 0.425917\n",
      "Train Epoch: 1 [58240/60000]\tLoss: 0.251087\n",
      "Train Epoch: 1 [58880/60000]\tLoss: 0.131929\n",
      "Train Epoch: 1 [59520/60000]\tLoss: 0.295570\n",
      "\n",
      "Test set: Avg. loss: 0.1211, Accuracy: 9618/10000 (96%)\n",
      "\n",
      "Train Epoch: 2 [0/60000]\tLoss: 0.154104\n",
      "Train Epoch: 2 [640/60000]\tLoss: 0.238564\n",
      "Train Epoch: 2 [1280/60000]\tLoss: 0.266678\n",
      "Train Epoch: 2 [1920/60000]\tLoss: 0.234877\n",
      "Train Epoch: 2 [2560/60000]\tLoss: 0.362498\n",
      "Train Epoch: 2 [3200/60000]\tLoss: 0.101491\n",
      "Train Epoch: 2 [3840/60000]\tLoss: 0.289341\n",
      "Train Epoch: 2 [4480/60000]\tLoss: 0.491516\n",
      "Train Epoch: 2 [5120/60000]\tLoss: 0.312587\n",
      "Train Epoch: 2 [5760/60000]\tLoss: 0.117387\n",
      "Train Epoch: 2 [6400/60000]\tLoss: 0.176149\n",
      "Train Epoch: 2 [7040/60000]\tLoss: 0.216622\n",
      "Train Epoch: 2 [7680/60000]\tLoss: 0.109586\n",
      "Train Epoch: 2 [8320/60000]\tLoss: 0.299018\n",
      "Train Epoch: 2 [8960/60000]\tLoss: 0.098533\n",
      "Train Epoch: 2 [9600/60000]\tLoss: 0.218084\n",
      "Train Epoch: 2 [10240/60000]\tLoss: 0.372959\n",
      "Train Epoch: 2 [10880/60000]\tLoss: 0.114412\n",
      "Train Epoch: 2 [11520/60000]\tLoss: 0.087893\n",
      "Train Epoch: 2 [12160/60000]\tLoss: 0.103976\n",
      "Train Epoch: 2 [12800/60000]\tLoss: 0.167958\n",
      "Train Epoch: 2 [13440/60000]\tLoss: 0.309162\n",
      "Train Epoch: 2 [14080/60000]\tLoss: 0.400990\n",
      "Train Epoch: 2 [14720/60000]\tLoss: 0.159535\n",
      "Train Epoch: 2 [15360/60000]\tLoss: 0.262459\n",
      "Train Epoch: 2 [16000/60000]\tLoss: 0.169021\n",
      "Train Epoch: 2 [16640/60000]\tLoss: 0.179027\n",
      "Train Epoch: 2 [17280/60000]\tLoss: 0.161058\n",
      "Train Epoch: 2 [17920/60000]\tLoss: 0.078281\n",
      "Train Epoch: 2 [18560/60000]\tLoss: 0.208202\n",
      "Train Epoch: 2 [19200/60000]\tLoss: 0.091886\n",
      "Train Epoch: 2 [19840/60000]\tLoss: 0.170932\n",
      "Train Epoch: 2 [20480/60000]\tLoss: 0.147805\n",
      "Train Epoch: 2 [21120/60000]\tLoss: 0.169145\n",
      "Train Epoch: 2 [21760/60000]\tLoss: 0.206036\n",
      "Train Epoch: 2 [22400/60000]\tLoss: 0.086528\n",
      "Train Epoch: 2 [23040/60000]\tLoss: 0.255013\n",
      "Train Epoch: 2 [23680/60000]\tLoss: 0.198933\n",
      "Train Epoch: 2 [24320/60000]\tLoss: 0.194874\n",
      "Train Epoch: 2 [24960/60000]\tLoss: 0.215408\n",
      "Train Epoch: 2 [25600/60000]\tLoss: 0.173082\n",
      "Train Epoch: 2 [26240/60000]\tLoss: 0.186414\n",
      "Train Epoch: 2 [26880/60000]\tLoss: 0.264227\n",
      "Train Epoch: 2 [27520/60000]\tLoss: 0.204253\n",
      "Train Epoch: 2 [28160/60000]\tLoss: 0.122141\n",
      "Train Epoch: 2 [28800/60000]\tLoss: 0.367368\n",
      "Train Epoch: 2 [29440/60000]\tLoss: 0.212705\n",
      "Train Epoch: 2 [30080/60000]\tLoss: 0.292608\n",
      "Train Epoch: 2 [30720/60000]\tLoss: 0.213923\n",
      "Train Epoch: 2 [31360/60000]\tLoss: 0.321823\n",
      "Train Epoch: 2 [32000/60000]\tLoss: 0.165847\n",
      "Train Epoch: 2 [32640/60000]\tLoss: 0.074375\n",
      "Train Epoch: 2 [33280/60000]\tLoss: 0.178569\n",
      "Train Epoch: 2 [33920/60000]\tLoss: 0.415231\n",
      "Train Epoch: 2 [34560/60000]\tLoss: 0.243117\n",
      "Train Epoch: 2 [35200/60000]\tLoss: 0.155736\n",
      "Train Epoch: 2 [35840/60000]\tLoss: 0.198225\n",
      "Train Epoch: 2 [36480/60000]\tLoss: 0.178782\n",
      "Train Epoch: 2 [37120/60000]\tLoss: 0.205505\n",
      "Train Epoch: 2 [37760/60000]\tLoss: 0.217005\n",
      "Train Epoch: 2 [38400/60000]\tLoss: 0.102103\n",
      "Train Epoch: 2 [39040/60000]\tLoss: 0.360992\n",
      "Train Epoch: 2 [39680/60000]\tLoss: 0.339597\n",
      "Train Epoch: 2 [40320/60000]\tLoss: 0.269677\n",
      "Train Epoch: 2 [40960/60000]\tLoss: 0.148515\n",
      "Train Epoch: 2 [41600/60000]\tLoss: 0.196419\n",
      "Train Epoch: 2 [42240/60000]\tLoss: 0.161370\n",
      "Train Epoch: 2 [42880/60000]\tLoss: 0.127536\n",
      "Train Epoch: 2 [43520/60000]\tLoss: 0.232277\n",
      "Train Epoch: 2 [44160/60000]\tLoss: 0.147934\n",
      "Train Epoch: 2 [44800/60000]\tLoss: 0.331348\n",
      "Train Epoch: 2 [45440/60000]\tLoss: 0.346437\n",
      "Train Epoch: 2 [46080/60000]\tLoss: 0.149107\n",
      "Train Epoch: 2 [46720/60000]\tLoss: 0.207712\n",
      "Train Epoch: 2 [47360/60000]\tLoss: 0.360103\n",
      "Train Epoch: 2 [48000/60000]\tLoss: 0.252519\n",
      "Train Epoch: 2 [48640/60000]\tLoss: 0.166488\n",
      "Train Epoch: 2 [49280/60000]\tLoss: 0.141391\n",
      "Train Epoch: 2 [49920/60000]\tLoss: 0.299666\n",
      "Train Epoch: 2 [50560/60000]\tLoss: 0.185441\n",
      "Train Epoch: 2 [51200/60000]\tLoss: 0.103474\n",
      "Train Epoch: 2 [51840/60000]\tLoss: 0.274340\n",
      "Train Epoch: 2 [52480/60000]\tLoss: 0.255908\n",
      "Train Epoch: 2 [53120/60000]\tLoss: 0.188945\n",
      "Train Epoch: 2 [53760/60000]\tLoss: 0.262432\n",
      "Train Epoch: 2 [54400/60000]\tLoss: 0.294455\n",
      "Train Epoch: 2 [55040/60000]\tLoss: 0.178723\n",
      "Train Epoch: 2 [55680/60000]\tLoss: 0.125722\n",
      "Train Epoch: 2 [56320/60000]\tLoss: 0.460636\n",
      "Train Epoch: 2 [56960/60000]\tLoss: 0.163467\n",
      "Train Epoch: 2 [57600/60000]\tLoss: 0.184682\n",
      "Train Epoch: 2 [58240/60000]\tLoss: 0.141827\n",
      "Train Epoch: 2 [58880/60000]\tLoss: 0.179862\n",
      "Train Epoch: 2 [59520/60000]\tLoss: 0.212502\n"
     ]
    }
   ]
  },
  {
   "cell_type": "code",
   "source": [
    "# Run network on data we got before and show predictions\n",
    "output = model(example_data)\n",
    "\n",
    "fig = plt.figure()\n",
    "for i in range(10):\n",
    "  plt.subplot(5,5,i+1)\n",
    "  plt.tight_layout()\n",
    "  plt.imshow(example_data[i][0], cmap='gray', interpolation='none')\n",
    "  plt.title(\"Prediction: {}\".format(\n",
    "    output.data.max(1, keepdim=True)[1][i].item()))\n",
    "  plt.xticks([])\n",
    "  plt.yticks([])\n",
    "plt.show()"
   ],
   "metadata": {
    "id": "o7fRUAy9Se1B",
    "is_executing": true
   },
   "execution_count": null,
   "outputs": []
  }
 ]
}
