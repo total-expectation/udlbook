{
 "cells": [
  {
   "cell_type": "code",
   "execution_count": 1,
   "id": "initial_id",
   "metadata": {
    "ExecuteTime": {
     "end_time": "2024-04-22T14:52:27.252934700Z",
     "start_time": "2024-04-22T14:52:27.246280Z"
    },
    "collapsed": true,
    "jupyter": {
     "outputs_hidden": true
    }
   },
   "outputs": [],
   "source": [
    "from IPython.core.interactiveshell import InteractiveShell\n",
    "InteractiveShell.ast_node_interactivity = \"all\""
   ]
  },
  {
   "cell_type": "markdown",
   "id": "4aea5da65f0bb4bd",
   "metadata": {
    "collapsed": false,
    "jupyter": {
     "outputs_hidden": false
    }
   },
   "source": [
    "## Problems\n"
   ]
  },
  {
   "cell_type": "markdown",
   "id": "1962af0c241b20e8",
   "metadata": {
    "collapsed": false,
    "jupyter": {
     "outputs_hidden": false
    }
   },
   "source": [
    "**Problem 10.1** Show that the operation in equation 10.3 is equivariant with respect to translation.\n",
    "Answer: We have the equation $$z_i = w_1x_{i-1} + w_2x_i + w_3x_{i+1}$$\n",
    "\n",
    "We can note that in general if the convolution is defined as weight w convolved over a 1D signal x we get \n",
    "$$(w * x)[n] = \\sum_{k=-\\infty}^{\\infty}x[k] * w[n-k]$$\n",
    "\n",
    "Furthermore defining a translation as a shift operator as $$S_c(x[n]) = x[n-c]$$\n",
    "\n",
    "Then we can show that convolving over the input x and then shifting is the same as shifting x and then convolving over the result. Therefore, the following must hold for equivariance to be satisfied $$f(t(x)) = t(f(x))$$, where f is the convolution and t is the shifting operator. To show this we have the following proof, where we perform a clever reindexing or transformation so to speak $k = k' - c$\n",
    "\n",
    "$$\n",
    "\\begin{align}\n",
    "S_c((w * n)[n]) &= S_c\\left[ \\sum_{k=-\\infty}^{\\infty}x[k] * w[n - k - c] \\right]\\\\\n",
    "&= \\sum_{k'=-\\infty}^{\\infty} x[k' - c] * w[n - k'] \\\\\n",
    "&= \\sum_{k'=-\\infty}^{\\infty} S_c(x[k']) * w[n - k'] \\\\\n",
    "&= [S_c(x) * w][n] \\\\\n",
    "\\end{align}\n",
    "$$\n",
    "\n",
    "which shows they are equivalent given that the bounds moves to infinity in both directions, which it doesn't in reality, so really it's only approximately equivariant to translation. And because we have shown for a general 1D x signal and w, this also applies to equation 10.3. QED.\n"
   ]
  },
  {
   "cell_type": "code",
   "execution_count": 2,
   "id": "fbca229173617c02",
   "metadata": {
    "ExecuteTime": {
     "end_time": "2024-04-19T12:51:57.174932100Z",
     "start_time": "2024-04-19T12:51:57.168522500Z"
    },
    "collapsed": false,
    "jupyter": {
     "outputs_hidden": false
    }
   },
   "outputs": [],
   "source": []
  },
  {
   "cell_type": "code",
   "execution_count": null,
   "id": "616119e0-e49a-428f-a8e3-434be823a2cb",
   "metadata": {},
   "outputs": [],
   "source": []
  }
 ],
 "metadata": {
  "kernelspec": {
   "display_name": "Python 3 (ipykernel)",
   "language": "python",
   "name": "python3"
  },
  "language_info": {
   "codemirror_mode": {
    "name": "ipython",
    "version": 3
   },
   "file_extension": ".py",
   "mimetype": "text/x-python",
   "name": "python",
   "nbconvert_exporter": "python",
   "pygments_lexer": "ipython3",
   "version": "3.11.4"
  }
 },
 "nbformat": 4,
 "nbformat_minor": 5
}
