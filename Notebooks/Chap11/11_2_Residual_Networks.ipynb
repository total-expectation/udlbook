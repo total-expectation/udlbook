{
 "cells": [
  {
   "cell_type": "markdown",
   "metadata": {
    "colab_type": "text",
    "id": "view-in-github"
   },
   "source": [
    "<a href=\"https://colab.research.google.com/github/udlbook/udlbook/blob/main/Notebooks/Chap11/11_2_Residual_Networks.ipynb\" target=\"_parent\"><img src=\"https://colab.research.google.com/assets/colab-badge.svg\" alt=\"Open In Colab\"/></a>"
   ]
  },
  {
   "cell_type": "markdown",
   "metadata": {
    "id": "t9vk9Elugvmi"
   },
   "source": [
    "# **Notebook 11.2: Residual Networks**\n",
    "\n",
    "This notebook adapts the networks for MNIST1D to use residual connections.\n",
    "\n",
    "Work through the cells below, running each cell in turn. In various places you will see the words \"TO DO\". Follow the instructions at these places and make predictions about what is going to happen or write code to complete the functions.\n",
    "\n",
    "Contact me at udlbookmail@gmail.com if you find any mistakes or have any suggestions.\n",
    "\n"
   ]
  },
  {
   "cell_type": "code",
   "execution_count": 6,
   "metadata": {
    "id": "YrXWAH7sUWvU",
    "ExecuteTime": {
     "end_time": "2024-04-23T06:19:59.455396700Z",
     "start_time": "2024-04-23T06:19:59.446361800Z"
    }
   },
   "outputs": [],
   "source": [
    "import numpy as np\n",
    "import os\n",
    "import torch, torch.nn as nn\n",
    "from torch.utils.data import TensorDataset, DataLoader\n",
    "from torch.optim.lr_scheduler import StepLR\n",
    "import matplotlib.pyplot as plt\n",
    "import mnist1d\n",
    "import random"
   ]
  },
  {
   "cell_type": "code",
   "execution_count": 7,
   "metadata": {
    "id": "twI72ZCrCt5z",
    "ExecuteTime": {
     "end_time": "2024-04-23T06:19:59.465204800Z",
     "start_time": "2024-04-23T06:19:59.450400400Z"
    }
   },
   "outputs": [
    {
     "name": "stdout",
     "output_type": "stream",
     "text": [
      "Successfully loaded data from ./mnist1d_data.pkl\n",
      "Examples in training set: 4000\n",
      "Examples in test set: 1000\n",
      "Length of each example: 40\n"
     ]
    }
   ],
   "source": [
    "args = mnist1d.data.get_dataset_args()\n",
    "data = mnist1d.data.get_dataset(args, path='./mnist1d_data.pkl', download=False, regenerate=False)\n",
    "\n",
    "# The training and test input and outputs are in\n",
    "# data['x'], data['y'], data['x_test'], and data['y_test']\n",
    "print(\"Examples in training set: {}\".format(len(data['y'])))\n",
    "print(\"Examples in test set: {}\".format(len(data['y_test'])))\n",
    "print(\"Length of each example: {}\".format(data['x'].shape[-1]))"
   ]
  },
  {
   "cell_type": "code",
   "execution_count": 8,
   "metadata": {
    "id": "8bKADvLHbiV5",
    "ExecuteTime": {
     "end_time": "2024-04-23T06:19:59.482453Z",
     "start_time": "2024-04-23T06:19:59.463204600Z"
    }
   },
   "outputs": [
    {
     "name": "stdout",
     "output_type": "stream",
     "text": [
      "Train data: 4000 examples (columns), each of which has 40 dimensions (rows)\n",
      "Validation data: 1000 examples (columns), each of which has 40 dimensions (rows)\n"
     ]
    }
   ],
   "source": [
    "# Load in the data\n",
    "train_data_x = data['x'].transpose()\n",
    "train_data_y = data['y']\n",
    "val_data_x = data['x_test'].transpose()\n",
    "val_data_y = data['y_test']\n",
    "# Print out sizes\n",
    "print(\"Train data: %d examples (columns), each of which has %d dimensions (rows)\"%((train_data_x.shape[1],train_data_x.shape[0])))\n",
    "print(\"Validation data: %d examples (columns), each of which has %d dimensions (rows)\"%((val_data_x.shape[1],val_data_x.shape[0])))"
   ]
  },
  {
   "cell_type": "markdown",
   "metadata": {
    "id": "_sFvRDGrl4qe"
   },
   "source": [
    "Define the network"
   ]
  },
  {
   "cell_type": "code",
   "execution_count": 35,
   "metadata": {
    "id": "FslroPJJffrh",
    "ExecuteTime": {
     "end_time": "2024-04-23T07:06:00.391007200Z",
     "start_time": "2024-04-23T07:06:00.387583200Z"
    }
   },
   "outputs": [],
   "source": [
    "# There are 40 input dimensions and 10 output dimensions for this data\n",
    "# The inputs correspond to the 40 offsets in the MNIST1D template.\n",
    "D_i = 40\n",
    "# The outputs correspond to the 10 digits\n",
    "D_o = 10\n",
    "\n",
    "\n",
    "# We will adapt this model to have residual connections around the linear layers\n",
    "# This is the same model we used in practical 8.1, but we can't use the sequential\n",
    "# class for residual networks (which aren't strictly sequential).  Hence, I've rewritten\n",
    "# it as a model that inherits from a base class\n",
    "\n",
    "class ResidualNetwork(torch.nn.Module):\n",
    "  def __init__(self, input_size, output_size, hidden_size=100):\n",
    "    super(ResidualNetwork, self).__init__()\n",
    "    self.linear1 = nn.Linear(input_size, hidden_size)\n",
    "    self.linear2 = nn.Linear(hidden_size, hidden_size)\n",
    "    self.linear3 = nn.Linear(hidden_size, hidden_size)\n",
    "    self.linear4 = nn.Linear(hidden_size, output_size)\n",
    "    print(\"Initialized MLPBase model with {} parameters\".format(self.count_params()))\n",
    "\n",
    "  def count_params(self):\n",
    "    return sum([p.view(-1).shape[0] for p in self.parameters()])\n",
    "\n",
    "# TODO -- Add residual connections to this model\n",
    "# The order of operations within each block should be similar to figure 11.5b\n",
    "# ie., linear1 first, ReLU+linear2 in first residual block, ReLU+linear3 in second residual block), linear4 at end\n",
    "# Replace this function\n",
    "  def forward(self, x):\n",
    "    h1 = self.linear1(x)\n",
    "    h2 = h1 + self.linear2(nn.functional.relu(h1))\n",
    "    h3 = h2 + self.linear3(nn.functional.relu(h2))\n",
    "    return self.linear4(h3)\n"
   ]
  },
  {
   "cell_type": "code",
   "execution_count": 36,
   "metadata": {
    "id": "YgLaex1pfhqz",
    "ExecuteTime": {
     "end_time": "2024-04-23T07:06:00.922259800Z",
     "start_time": "2024-04-23T07:06:00.917295600Z"
    }
   },
   "outputs": [],
   "source": [
    "# He initialization of weights\n",
    "def weights_init(layer_in):\n",
    "  if isinstance(layer_in, nn.Linear):\n",
    "    nn.init.kaiming_uniform_(layer_in.weight)\n",
    "    layer_in.bias.data.fill_(0.0)"
   ]
  },
  {
   "cell_type": "code",
   "execution_count": 37,
   "metadata": {
    "id": "NYw8I_3mmX5c",
    "ExecuteTime": {
     "end_time": "2024-04-23T07:06:10.799607300Z",
     "start_time": "2024-04-23T07:06:01.535677900Z"
    }
   },
   "outputs": [
    {
     "name": "stdout",
     "output_type": "stream",
     "text": [
      "Initialized MLPBase model with 25310 parameters\n",
      "Epoch     0, train loss 1.550821, train error 60.62,  val loss 1.674852, percent error 64.50\n",
      "Epoch     1, train loss 1.103840, train error 41.22,  val loss 1.270101, percent error 49.90\n",
      "Epoch     2, train loss 0.982042, train error 37.53,  val loss 1.217299, percent error 45.90\n",
      "Epoch     3, train loss 0.869061, train error 32.32,  val loss 1.176010, percent error 44.90\n",
      "Epoch     4, train loss 0.860569, train error 33.72,  val loss 1.246562, percent error 45.10\n",
      "Epoch     5, train loss 0.767975, train error 28.57,  val loss 1.175713, percent error 43.20\n",
      "Epoch     6, train loss 0.747842, train error 28.40,  val loss 1.271652, percent error 46.10\n",
      "Epoch     7, train loss 0.626758, train error 22.93,  val loss 1.171868, percent error 40.40\n",
      "Epoch     8, train loss 0.552618, train error 20.45,  val loss 1.179126, percent error 39.90\n",
      "Epoch     9, train loss 0.511659, train error 19.07,  val loss 1.139618, percent error 38.20\n",
      "Epoch    10, train loss 0.475917, train error 17.53,  val loss 1.242519, percent error 38.50\n",
      "Epoch    11, train loss 0.385476, train error 13.68,  val loss 1.302868, percent error 38.20\n",
      "Epoch    12, train loss 0.436801, train error 15.43,  val loss 1.407263, percent error 38.70\n",
      "Epoch    13, train loss 0.402134, train error 14.72,  val loss 1.367180, percent error 38.60\n",
      "Epoch    14, train loss 0.365028, train error 13.22,  val loss 1.372282, percent error 36.50\n",
      "Epoch    15, train loss 0.344686, train error 12.28,  val loss 1.373355, percent error 35.40\n",
      "Epoch    16, train loss 0.365565, train error 13.55,  val loss 1.594797, percent error 38.10\n",
      "Epoch    17, train loss 0.437639, train error 14.15,  val loss 1.659040, percent error 37.70\n",
      "Epoch    18, train loss 0.479564, train error 15.47,  val loss 1.578766, percent error 36.80\n",
      "Epoch    19, train loss 0.320944, train error 11.62,  val loss 1.533370, percent error 35.70\n",
      "Epoch    20, train loss 0.101007, train error 3.15,  val loss 1.225290, percent error 32.80\n",
      "Epoch    21, train loss 0.054506, train error 0.97,  val loss 1.118169, percent error 29.20\n",
      "Epoch    22, train loss 0.030108, train error 0.20,  val loss 1.174999, percent error 30.20\n",
      "Epoch    23, train loss 0.020677, train error 0.05,  val loss 1.182138, percent error 29.20\n",
      "Epoch    24, train loss 0.016075, train error 0.00,  val loss 1.214987, percent error 29.10\n",
      "Epoch    25, train loss 0.013290, train error 0.00,  val loss 1.250616, percent error 29.80\n",
      "Epoch    26, train loss 0.011019, train error 0.00,  val loss 1.283329, percent error 29.40\n",
      "Epoch    27, train loss 0.009554, train error 0.00,  val loss 1.300298, percent error 29.20\n",
      "Epoch    28, train loss 0.008468, train error 0.00,  val loss 1.328459, percent error 29.00\n",
      "Epoch    29, train loss 0.007584, train error 0.00,  val loss 1.345971, percent error 29.00\n",
      "Epoch    30, train loss 0.006858, train error 0.00,  val loss 1.365329, percent error 29.00\n",
      "Epoch    31, train loss 0.006272, train error 0.00,  val loss 1.383213, percent error 28.90\n",
      "Epoch    32, train loss 0.005751, train error 0.00,  val loss 1.397552, percent error 28.90\n",
      "Epoch    33, train loss 0.005340, train error 0.00,  val loss 1.411199, percent error 28.70\n",
      "Epoch    34, train loss 0.004959, train error 0.00,  val loss 1.424623, percent error 29.30\n",
      "Epoch    35, train loss 0.004649, train error 0.00,  val loss 1.438772, percent error 29.00\n",
      "Epoch    36, train loss 0.004368, train error 0.00,  val loss 1.447136, percent error 28.90\n",
      "Epoch    37, train loss 0.004114, train error 0.00,  val loss 1.455792, percent error 29.10\n",
      "Epoch    38, train loss 0.003879, train error 0.00,  val loss 1.470842, percent error 29.00\n",
      "Epoch    39, train loss 0.003673, train error 0.00,  val loss 1.479766, percent error 29.10\n",
      "Epoch    40, train loss 0.003570, train error 0.00,  val loss 1.484875, percent error 29.10\n",
      "Epoch    41, train loss 0.003484, train error 0.00,  val loss 1.488340, percent error 29.20\n",
      "Epoch    42, train loss 0.003401, train error 0.00,  val loss 1.494665, percent error 29.20\n",
      "Epoch    43, train loss 0.003321, train error 0.00,  val loss 1.497837, percent error 29.20\n",
      "Epoch    44, train loss 0.003243, train error 0.00,  val loss 1.503056, percent error 29.20\n",
      "Epoch    45, train loss 0.003170, train error 0.00,  val loss 1.507121, percent error 29.10\n",
      "Epoch    46, train loss 0.003099, train error 0.00,  val loss 1.511449, percent error 29.20\n",
      "Epoch    47, train loss 0.003032, train error 0.00,  val loss 1.515543, percent error 29.20\n",
      "Epoch    48, train loss 0.002969, train error 0.00,  val loss 1.519770, percent error 29.10\n",
      "Epoch    49, train loss 0.002906, train error 0.00,  val loss 1.525293, percent error 29.00\n",
      "Epoch    50, train loss 0.002847, train error 0.00,  val loss 1.528723, percent error 29.10\n",
      "Epoch    51, train loss 0.002790, train error 0.00,  val loss 1.532254, percent error 29.10\n",
      "Epoch    52, train loss 0.002734, train error 0.00,  val loss 1.536387, percent error 29.20\n",
      "Epoch    53, train loss 0.002680, train error 0.00,  val loss 1.539420, percent error 29.00\n",
      "Epoch    54, train loss 0.002629, train error 0.00,  val loss 1.543951, percent error 29.10\n",
      "Epoch    55, train loss 0.002579, train error 0.00,  val loss 1.547616, percent error 29.20\n",
      "Epoch    56, train loss 0.002532, train error 0.00,  val loss 1.550928, percent error 29.20\n",
      "Epoch    57, train loss 0.002486, train error 0.00,  val loss 1.554484, percent error 29.20\n",
      "Epoch    58, train loss 0.002441, train error 0.00,  val loss 1.558136, percent error 29.20\n",
      "Epoch    59, train loss 0.002398, train error 0.00,  val loss 1.561740, percent error 29.20\n",
      "Epoch    60, train loss 0.002376, train error 0.00,  val loss 1.563228, percent error 29.20\n",
      "Epoch    61, train loss 0.002356, train error 0.00,  val loss 1.565374, percent error 29.20\n",
      "Epoch    62, train loss 0.002335, train error 0.00,  val loss 1.566786, percent error 29.30\n",
      "Epoch    63, train loss 0.002315, train error 0.00,  val loss 1.568436, percent error 29.40\n",
      "Epoch    64, train loss 0.002296, train error 0.00,  val loss 1.570234, percent error 29.40\n",
      "Epoch    65, train loss 0.002276, train error 0.00,  val loss 1.572002, percent error 29.40\n",
      "Epoch    66, train loss 0.002257, train error 0.00,  val loss 1.573430, percent error 29.40\n",
      "Epoch    67, train loss 0.002239, train error 0.00,  val loss 1.575289, percent error 29.40\n",
      "Epoch    68, train loss 0.002220, train error 0.00,  val loss 1.576710, percent error 29.40\n",
      "Epoch    69, train loss 0.002202, train error 0.00,  val loss 1.578616, percent error 29.40\n",
      "Epoch    70, train loss 0.002184, train error 0.00,  val loss 1.580160, percent error 29.40\n",
      "Epoch    71, train loss 0.002167, train error 0.00,  val loss 1.581818, percent error 29.20\n",
      "Epoch    72, train loss 0.002149, train error 0.00,  val loss 1.583370, percent error 29.40\n",
      "Epoch    73, train loss 0.002132, train error 0.00,  val loss 1.584824, percent error 29.40\n",
      "Epoch    74, train loss 0.002115, train error 0.00,  val loss 1.586672, percent error 29.30\n",
      "Epoch    75, train loss 0.002098, train error 0.00,  val loss 1.588071, percent error 29.40\n",
      "Epoch    76, train loss 0.002082, train error 0.00,  val loss 1.589796, percent error 29.30\n",
      "Epoch    77, train loss 0.002066, train error 0.00,  val loss 1.591244, percent error 29.40\n",
      "Epoch    78, train loss 0.002050, train error 0.00,  val loss 1.592760, percent error 29.40\n",
      "Epoch    79, train loss 0.002034, train error 0.00,  val loss 1.594239, percent error 29.40\n",
      "Epoch    80, train loss 0.002026, train error 0.00,  val loss 1.594802, percent error 29.40\n",
      "Epoch    81, train loss 0.002018, train error 0.00,  val loss 1.595713, percent error 29.30\n",
      "Epoch    82, train loss 0.002011, train error 0.00,  val loss 1.596574, percent error 29.30\n",
      "Epoch    83, train loss 0.002003, train error 0.00,  val loss 1.597346, percent error 29.30\n",
      "Epoch    84, train loss 0.001996, train error 0.00,  val loss 1.598223, percent error 29.30\n",
      "Epoch    85, train loss 0.001988, train error 0.00,  val loss 1.598709, percent error 29.30\n",
      "Epoch    86, train loss 0.001981, train error 0.00,  val loss 1.599442, percent error 29.30\n",
      "Epoch    87, train loss 0.001973, train error 0.00,  val loss 1.600238, percent error 29.40\n",
      "Epoch    88, train loss 0.001966, train error 0.00,  val loss 1.600995, percent error 29.30\n",
      "Epoch    89, train loss 0.001959, train error 0.00,  val loss 1.601858, percent error 29.30\n",
      "Epoch    90, train loss 0.001952, train error 0.00,  val loss 1.602453, percent error 29.30\n",
      "Epoch    91, train loss 0.001944, train error 0.00,  val loss 1.603140, percent error 29.30\n",
      "Epoch    92, train loss 0.001937, train error 0.00,  val loss 1.603913, percent error 29.30\n",
      "Epoch    93, train loss 0.001930, train error 0.00,  val loss 1.604792, percent error 29.30\n",
      "Epoch    94, train loss 0.001923, train error 0.00,  val loss 1.605301, percent error 29.30\n",
      "Epoch    95, train loss 0.001916, train error 0.00,  val loss 1.606159, percent error 29.30\n",
      "Epoch    96, train loss 0.001909, train error 0.00,  val loss 1.606885, percent error 29.30\n",
      "Epoch    97, train loss 0.001902, train error 0.00,  val loss 1.607470, percent error 29.40\n",
      "Epoch    98, train loss 0.001896, train error 0.00,  val loss 1.608270, percent error 29.30\n",
      "Epoch    99, train loss 0.001889, train error 0.00,  val loss 1.608915, percent error 29.30\n"
     ]
    }
   ],
   "source": [
    "#Define the model\n",
    "model = ResidualNetwork(40, 10)\n",
    "\n",
    "# choose cross entropy loss function (equation 5.24 in the loss notes)\n",
    "loss_function = nn.CrossEntropyLoss()\n",
    "# construct SGD optimizer and initialize learning rate and momentum\n",
    "optimizer = torch.optim.SGD(model.parameters(), lr = 0.05, momentum=0.9)\n",
    "# object that decreases learning rate by half every 20 epochs\n",
    "scheduler = StepLR(optimizer, step_size=20, gamma=0.5)\n",
    "# convert data to torch tensors\n",
    "x_train = torch.tensor(train_data_x.transpose().astype('float32'))\n",
    "y_train = torch.tensor(train_data_y.astype('long'))\n",
    "x_val= torch.tensor(val_data_x.transpose().astype('float32'))\n",
    "y_val = torch.tensor(val_data_y.astype('long'))\n",
    "\n",
    "# load the data into a class that creates the batches\n",
    "data_loader = DataLoader(TensorDataset(x_train,y_train), batch_size=100, shuffle=True, worker_init_fn=np.random.seed(1))\n",
    "\n",
    "# Initialize model weights\n",
    "model.apply(weights_init)\n",
    "\n",
    "# loop over the dataset n_epoch times\n",
    "n_epoch = 100\n",
    "# store the loss and the % correct at each epoch\n",
    "losses_train = np.zeros((n_epoch))\n",
    "errors_train = np.zeros((n_epoch))\n",
    "losses_val = np.zeros((n_epoch))\n",
    "errors_val = np.zeros((n_epoch))\n",
    "\n",
    "for epoch in range(n_epoch):\n",
    "  # loop over batches\n",
    "  for i, data in enumerate(data_loader):\n",
    "    # retrieve inputs and labels for this batch\n",
    "    x_batch, y_batch = data\n",
    "    # zero the parameter gradients\n",
    "    optimizer.zero_grad()\n",
    "    # forward pass -- calculate model output\n",
    "    pred = model(x_batch)\n",
    "    # compute the loss\n",
    "    loss = loss_function(pred, y_batch.long())\n",
    "    # backward pass\n",
    "    loss.backward()\n",
    "    # SGD update\n",
    "    optimizer.step()\n",
    "\n",
    "  # Run whole dataset to get statistics -- normally wouldn't do this\n",
    "  pred_train = model(x_train)\n",
    "  pred_val = model(x_val)\n",
    "  _, predicted_train_class = torch.max(pred_train.data, 1)\n",
    "  _, predicted_val_class = torch.max(pred_val.data, 1)\n",
    "  errors_train[epoch] = 100 - 100 * (predicted_train_class == y_train).float().sum() / len(y_train)\n",
    "  errors_val[epoch]= 100 - 100 * (predicted_val_class == y_val).float().sum() / len(y_val)\n",
    "  losses_train[epoch] = loss_function(pred_train, y_train.long()).item()\n",
    "  losses_val[epoch]= loss_function(pred_val, y_val.long()).item()\n",
    "  print(f'Epoch {epoch:5d}, train loss {losses_train[epoch]:.6f}, train error {errors_train[epoch]:3.2f},  val loss {losses_val[epoch]:.6f}, percent error {errors_val[epoch]:3.2f}')\n",
    "\n",
    "  # tell scheduler to consider updating learning rate\n",
    "  scheduler.step()"
   ]
  },
  {
   "cell_type": "code",
   "execution_count": 38,
   "metadata": {
    "id": "CcP_VyEmE2sv",
    "ExecuteTime": {
     "end_time": "2024-04-23T07:06:12.475843800Z",
     "start_time": "2024-04-23T07:06:12.377219400Z"
    }
   },
   "outputs": [
    {
     "data": {
      "text/plain": "<Figure size 640x480 with 1 Axes>",
      "image/png": "[encoded data removed]"
     },
     "metadata": {},
     "output_type": "display_data"
    }
   ],
   "source": [
    "# Plot the results\n",
    "fig, ax = plt.subplots()\n",
    "ax.plot(errors_train,'r-',label='train')\n",
    "ax.plot(errors_val,'b-',label='test')\n",
    "ax.set_ylim(0,100); ax.set_xlim(0,n_epoch)\n",
    "ax.set_xlabel('Epoch'); ax.set_ylabel('Error')\n",
    "ax.set_title('TrainError %3.2f, Val Error %3.2f'%(errors_train[-1],errors_val[-1]))\n",
    "ax.legend()\n",
    "plt.show()"
   ]
  },
  {
   "cell_type": "markdown",
   "metadata": {
    "id": "wMmqhmxuAx0M"
   },
   "source": [
    "The primary motivation of residual networks is to allow training of much deeper networks.   \n",
    "\n",
    "TODO: Try running this network with and without the residual connections.  Does adding the residual connections change the performance?"
   ]
  },
  {
   "cell_type": "markdown",
   "source": [
    "<span style=\"color:green;white-space:pre-wrap\">Not sure what's going on, but the skip connection does not work here. Each skip connection should be implemented after each res block, which is what I've done. I'm aware there could be more relus + linear inside of one resnet block, but it seems according to the instructions that is not the case this time.</span>"
   ],
   "metadata": {
    "collapsed": false
   }
  },
  {
   "cell_type": "code",
   "outputs": [],
   "source": [],
   "metadata": {
    "collapsed": false
   }
  }
 ],
 "metadata": {
  "colab": {
   "authorship_tag": "ABX9TyMXS3SPB4cS/4qxix0lH/Hq",
   "include_colab_link": true,
   "provenance": []
  },
  "kernelspec": {
   "display_name": "Python 3 (ipykernel)",
   "language": "python",
   "name": "python3"
  },
  "language_info": {
   "codemirror_mode": {
    "name": "ipython",
    "version": 3
   },
   "file_extension": ".py",
   "mimetype": "text/x-python",
   "name": "python",
   "nbconvert_exporter": "python",
   "pygments_lexer": "ipython3",
   "version": "3.11.4"
  }
 },
 "nbformat": 4,
 "nbformat_minor": 4
}
