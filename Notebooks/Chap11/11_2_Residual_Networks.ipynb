{
 "cells": [
  {
   "cell_type": "markdown",
   "metadata": {
    "colab_type": "text",
    "id": "view-in-github"
   },
   "source": [
    "<a href=\"https://colab.research.google.com/github/udlbook/udlbook/blob/main/Notebooks/Chap11/11_2_Residual_Networks.ipynb\" target=\"_parent\"><img src=\"https://colab.research.google.com/assets/colab-badge.svg\" alt=\"Open In Colab\"/></a>"
   ]
  },
  {
   "cell_type": "markdown",
   "metadata": {
    "id": "t9vk9Elugvmi"
   },
   "source": [
    "# **Notebook 11.2: Residual Networks**\n",
    "\n",
    "This notebook adapts the networks for MNIST1D to use residual connections.\n",
    "\n",
    "Work through the cells below, running each cell in turn. In various places you will see the words \"TO DO\". Follow the instructions at these places and make predictions about what is going to happen or write code to complete the functions.\n",
    "\n",
    "Contact me at udlbookmail@gmail.com if you find any mistakes or have any suggestions.\n",
    "\n"
   ]
  },
  {
   "cell_type": "code",
   "execution_count": 1,
   "metadata": {
    "id": "YrXWAH7sUWvU",
    "ExecuteTime": {
     "end_time": "2024-04-24T07:01:29.937592500Z",
     "start_time": "2024-04-24T07:01:24.662239300Z"
    }
   },
   "outputs": [],
   "source": [
    "import numpy as np\n",
    "import os\n",
    "import torch, torch.nn as nn\n",
    "from torch.utils.data import TensorDataset, DataLoader\n",
    "from torch.optim.lr_scheduler import StepLR\n",
    "import matplotlib.pyplot as plt\n",
    "import mnist1d\n",
    "import random"
   ]
  },
  {
   "cell_type": "code",
   "execution_count": 2,
   "metadata": {
    "id": "twI72ZCrCt5z",
    "ExecuteTime": {
     "end_time": "2024-04-24T07:01:29.942699800Z",
     "start_time": "2024-04-24T07:01:29.937592500Z"
    }
   },
   "outputs": [
    {
     "name": "stdout",
     "output_type": "stream",
     "text": [
      "Successfully loaded data from ./mnist1d_data.pkl\n",
      "Examples in training set: 4000\n",
      "Examples in test set: 1000\n",
      "Length of each example: 40\n"
     ]
    }
   ],
   "source": [
    "args = mnist1d.data.get_dataset_args()\n",
    "data = mnist1d.data.get_dataset(args, path='./mnist1d_data.pkl', download=False, regenerate=False)\n",
    "\n",
    "# The training and test input and outputs are in\n",
    "# data['x'], data['y'], data['x_test'], and data['y_test']\n",
    "print(\"Examples in training set: {}\".format(len(data['y'])))\n",
    "print(\"Examples in test set: {}\".format(len(data['y_test'])))\n",
    "print(\"Length of each example: {}\".format(data['x'].shape[-1]))"
   ]
  },
  {
   "cell_type": "code",
   "execution_count": 3,
   "metadata": {
    "id": "8bKADvLHbiV5",
    "ExecuteTime": {
     "end_time": "2024-04-24T07:01:29.948924800Z",
     "start_time": "2024-04-24T07:01:29.943698700Z"
    }
   },
   "outputs": [
    {
     "name": "stdout",
     "output_type": "stream",
     "text": [
      "Train data: 4000 examples (columns), each of which has 40 dimensions (rows)\n",
      "Validation data: 1000 examples (columns), each of which has 40 dimensions (rows)\n"
     ]
    }
   ],
   "source": [
    "# Load in the data\n",
    "train_data_x = data['x'].transpose()\n",
    "train_data_y = data['y']\n",
    "val_data_x = data['x_test'].transpose()\n",
    "val_data_y = data['y_test']\n",
    "# Print out sizes\n",
    "print(\"Train data: %d examples (columns), each of which has %d dimensions (rows)\"%((train_data_x.shape[1],train_data_x.shape[0])))\n",
    "print(\"Validation data: %d examples (columns), each of which has %d dimensions (rows)\"%((val_data_x.shape[1],val_data_x.shape[0])))"
   ]
  },
  {
   "cell_type": "markdown",
   "metadata": {
    "id": "_sFvRDGrl4qe"
   },
   "source": [
    "Define the network"
   ]
  },
  {
   "cell_type": "code",
   "execution_count": 4,
   "metadata": {
    "id": "FslroPJJffrh",
    "ExecuteTime": {
     "end_time": "2024-04-24T07:01:29.955871400Z",
     "start_time": "2024-04-24T07:01:29.952923300Z"
    }
   },
   "outputs": [],
   "source": [
    "# There are 40 input dimensions and 10 output dimensions for this data\n",
    "# The inputs correspond to the 40 offsets in the MNIST1D template.\n",
    "D_i = 40\n",
    "# The outputs correspond to the 10 digits\n",
    "D_o = 10\n",
    "\n",
    "\n",
    "# We will adapt this model to have residual connections around the linear layers\n",
    "# This is the same model we used in practical 8.1, but we can't use the sequential\n",
    "# class for residual networks (which aren't strictly sequential).  Hence, I've rewritten\n",
    "# it as a model that inherits from a base class\n",
    "\n",
    "class ResidualNetwork(torch.nn.Module):\n",
    "  def __init__(self, input_size, output_size, hidden_size=100):\n",
    "    super(ResidualNetwork, self).__init__()\n",
    "    self.linear1 = nn.Linear(input_size, hidden_size)\n",
    "    self.linear2 = nn.Linear(hidden_size, hidden_size)\n",
    "    self.linear3 = nn.Linear(hidden_size, hidden_size)\n",
    "    self.linear4 = nn.Linear(hidden_size, output_size)\n",
    "    print(\"Initialized MLPBase model with {} parameters\".format(self.count_params()))\n",
    "\n",
    "  def count_params(self):\n",
    "    return sum([p.view(-1).shape[0] for p in self.parameters()])\n",
    "\n",
    "# TODO -- Add residual connections to this model\n",
    "# The order of operations within each block should be similar to figure 11.5b\n",
    "# ie., linear1 first, ReLU+linear2 in first residual block, ReLU+linear3 in second residual block), linear4 at end\n",
    "# Replace this function\n",
    "  def forward(self, x):\n",
    "    h1 = self.linear1(x)\n",
    "    h2 = h1 + self.linear2(nn.functional.relu(h1))\n",
    "    h3 = h2 + self.linear3(nn.functional.relu(h2))\n",
    "    return self.linear4(h3)\n"
   ]
  },
  {
   "cell_type": "code",
   "execution_count": 5,
   "metadata": {
    "id": "YgLaex1pfhqz",
    "ExecuteTime": {
     "end_time": "2024-04-24T07:01:29.985622200Z",
     "start_time": "2024-04-24T07:01:29.957871600Z"
    }
   },
   "outputs": [],
   "source": [
    "# He initialization of weights\n",
    "def weights_init(layer_in):\n",
    "  if isinstance(layer_in, nn.Linear):\n",
    "    nn.init.kaiming_uniform_(layer_in.weight)\n",
    "    layer_in.bias.data.fill_(0.0)"
   ]
  },
  {
   "cell_type": "code",
   "execution_count": 6,
   "metadata": {
    "id": "NYw8I_3mmX5c",
    "ExecuteTime": {
     "end_time": "2024-04-24T07:01:41.498037400Z",
     "start_time": "2024-04-24T07:01:29.965622800Z"
    }
   },
   "outputs": [
    {
     "name": "stdout",
     "output_type": "stream",
     "text": [
      "Initialized MLPBase model with 25310 parameters\n",
      "Epoch     0, train loss 1.578430, train error 60.33,  val loss 1.730448, percent error 65.40\n",
      "Epoch     1, train loss 1.209852, train error 46.72,  val loss 1.364725, percent error 53.20\n",
      "Epoch     2, train loss 1.081830, train error 41.12,  val loss 1.276170, percent error 48.90\n",
      "Epoch     3, train loss 0.892563, train error 34.40,  val loss 1.136150, percent error 43.40\n",
      "Epoch     4, train loss 0.875507, train error 32.95,  val loss 1.209170, percent error 43.90\n",
      "Epoch     5, train loss 0.732694, train error 27.85,  val loss 1.143351, percent error 43.00\n",
      "Epoch     6, train loss 0.744201, train error 28.05,  val loss 1.226502, percent error 42.80\n",
      "Epoch     7, train loss 0.633420, train error 23.95,  val loss 1.156541, percent error 39.60\n",
      "Epoch     8, train loss 0.529330, train error 19.40,  val loss 1.107271, percent error 38.60\n",
      "Epoch     9, train loss 0.489580, train error 18.47,  val loss 1.158900, percent error 38.70\n",
      "Epoch    10, train loss 0.479971, train error 18.30,  val loss 1.235395, percent error 38.90\n",
      "Epoch    11, train loss 0.429839, train error 16.15,  val loss 1.242549, percent error 39.10\n",
      "Epoch    12, train loss 0.451488, train error 16.95,  val loss 1.402421, percent error 39.40\n",
      "Epoch    13, train loss 0.415103, train error 14.75,  val loss 1.364231, percent error 38.10\n",
      "Epoch    14, train loss 0.355004, train error 12.35,  val loss 1.347263, percent error 37.00\n",
      "Epoch    15, train loss 0.343545, train error 12.82,  val loss 1.505327, percent error 38.40\n",
      "Epoch    16, train loss 0.329181, train error 11.85,  val loss 1.481641, percent error 36.70\n",
      "Epoch    17, train loss 0.261629, train error 9.68,  val loss 1.394430, percent error 37.20\n",
      "Epoch    18, train loss 0.314073, train error 10.85,  val loss 1.501519, percent error 35.80\n",
      "Epoch    19, train loss 0.299281, train error 10.57,  val loss 1.652649, percent error 37.00\n",
      "Epoch    20, train loss 0.082782, train error 2.45,  val loss 1.312529, percent error 33.50\n",
      "Epoch    21, train loss 0.035486, train error 0.35,  val loss 1.273227, percent error 32.60\n",
      "Epoch    22, train loss 0.022793, train error 0.07,  val loss 1.301525, percent error 31.20\n",
      "Epoch    23, train loss 0.016793, train error 0.03,  val loss 1.334333, percent error 31.50\n",
      "Epoch    24, train loss 0.013370, train error 0.00,  val loss 1.361338, percent error 32.20\n",
      "Epoch    25, train loss 0.011254, train error 0.00,  val loss 1.378983, percent error 31.60\n",
      "Epoch    26, train loss 0.009618, train error 0.00,  val loss 1.411777, percent error 31.80\n",
      "Epoch    27, train loss 0.008469, train error 0.00,  val loss 1.430529, percent error 31.90\n",
      "Epoch    28, train loss 0.007618, train error 0.00,  val loss 1.447828, percent error 32.20\n",
      "Epoch    29, train loss 0.006831, train error 0.00,  val loss 1.465451, percent error 32.10\n",
      "Epoch    30, train loss 0.006301, train error 0.00,  val loss 1.484326, percent error 32.30\n",
      "Epoch    31, train loss 0.005780, train error 0.00,  val loss 1.494431, percent error 32.20\n",
      "Epoch    32, train loss 0.005333, train error 0.00,  val loss 1.512218, percent error 32.60\n",
      "Epoch    33, train loss 0.004988, train error 0.00,  val loss 1.526221, percent error 32.40\n",
      "Epoch    34, train loss 0.004638, train error 0.00,  val loss 1.539060, percent error 32.10\n",
      "Epoch    35, train loss 0.004359, train error 0.00,  val loss 1.551017, percent error 31.90\n",
      "Epoch    36, train loss 0.004096, train error 0.00,  val loss 1.562089, percent error 32.10\n",
      "Epoch    37, train loss 0.003872, train error 0.00,  val loss 1.573605, percent error 31.80\n",
      "Epoch    38, train loss 0.003669, train error 0.00,  val loss 1.584787, percent error 31.80\n",
      "Epoch    39, train loss 0.003491, train error 0.00,  val loss 1.591434, percent error 31.80\n",
      "Epoch    40, train loss 0.003393, train error 0.00,  val loss 1.597414, percent error 31.50\n",
      "Epoch    41, train loss 0.003316, train error 0.00,  val loss 1.602570, percent error 31.70\n",
      "Epoch    42, train loss 0.003237, train error 0.00,  val loss 1.607749, percent error 31.60\n",
      "Epoch    43, train loss 0.003166, train error 0.00,  val loss 1.611388, percent error 31.60\n",
      "Epoch    44, train loss 0.003096, train error 0.00,  val loss 1.617030, percent error 31.70\n",
      "Epoch    45, train loss 0.003028, train error 0.00,  val loss 1.621106, percent error 31.70\n",
      "Epoch    46, train loss 0.002965, train error 0.00,  val loss 1.624805, percent error 31.70\n",
      "Epoch    47, train loss 0.002903, train error 0.00,  val loss 1.629373, percent error 31.70\n",
      "Epoch    48, train loss 0.002844, train error 0.00,  val loss 1.633574, percent error 31.60\n",
      "Epoch    49, train loss 0.002787, train error 0.00,  val loss 1.638076, percent error 31.70\n",
      "Epoch    50, train loss 0.002733, train error 0.00,  val loss 1.641012, percent error 31.70\n",
      "Epoch    51, train loss 0.002681, train error 0.00,  val loss 1.645132, percent error 31.50\n",
      "Epoch    52, train loss 0.002629, train error 0.00,  val loss 1.648920, percent error 31.60\n",
      "Epoch    53, train loss 0.002581, train error 0.00,  val loss 1.653627, percent error 31.60\n",
      "Epoch    54, train loss 0.002532, train error 0.00,  val loss 1.656979, percent error 31.60\n",
      "Epoch    55, train loss 0.002487, train error 0.00,  val loss 1.661281, percent error 31.60\n",
      "Epoch    56, train loss 0.002443, train error 0.00,  val loss 1.663302, percent error 31.50\n",
      "Epoch    57, train loss 0.002400, train error 0.00,  val loss 1.666865, percent error 31.70\n",
      "Epoch    58, train loss 0.002358, train error 0.00,  val loss 1.671083, percent error 31.60\n",
      "Epoch    59, train loss 0.002318, train error 0.00,  val loss 1.675200, percent error 31.70\n",
      "Epoch    60, train loss 0.002298, train error 0.00,  val loss 1.676668, percent error 31.70\n",
      "Epoch    61, train loss 0.002279, train error 0.00,  val loss 1.678677, percent error 31.60\n",
      "Epoch    62, train loss 0.002260, train error 0.00,  val loss 1.679906, percent error 31.50\n",
      "Epoch    63, train loss 0.002242, train error 0.00,  val loss 1.681289, percent error 31.50\n",
      "Epoch    64, train loss 0.002223, train error 0.00,  val loss 1.683240, percent error 31.50\n",
      "Epoch    65, train loss 0.002205, train error 0.00,  val loss 1.685218, percent error 31.50\n",
      "Epoch    66, train loss 0.002187, train error 0.00,  val loss 1.686343, percent error 31.50\n",
      "Epoch    67, train loss 0.002170, train error 0.00,  val loss 1.688191, percent error 31.50\n",
      "Epoch    68, train loss 0.002153, train error 0.00,  val loss 1.689640, percent error 31.50\n",
      "Epoch    69, train loss 0.002136, train error 0.00,  val loss 1.691552, percent error 31.50\n",
      "Epoch    70, train loss 0.002119, train error 0.00,  val loss 1.693445, percent error 31.50\n",
      "Epoch    71, train loss 0.002103, train error 0.00,  val loss 1.694557, percent error 31.50\n",
      "Epoch    72, train loss 0.002087, train error 0.00,  val loss 1.695801, percent error 31.50\n",
      "Epoch    73, train loss 0.002071, train error 0.00,  val loss 1.697578, percent error 31.50\n",
      "Epoch    74, train loss 0.002055, train error 0.00,  val loss 1.699412, percent error 31.50\n",
      "Epoch    75, train loss 0.002040, train error 0.00,  val loss 1.700974, percent error 31.50\n",
      "Epoch    76, train loss 0.002024, train error 0.00,  val loss 1.702409, percent error 31.50\n",
      "Epoch    77, train loss 0.002009, train error 0.00,  val loss 1.703923, percent error 31.50\n",
      "Epoch    78, train loss 0.001995, train error 0.00,  val loss 1.705775, percent error 31.50\n",
      "Epoch    79, train loss 0.001980, train error 0.00,  val loss 1.707056, percent error 31.50\n",
      "Epoch    80, train loss 0.001973, train error 0.00,  val loss 1.707902, percent error 31.50\n",
      "Epoch    81, train loss 0.001965, train error 0.00,  val loss 1.708601, percent error 31.50\n",
      "Epoch    82, train loss 0.001958, train error 0.00,  val loss 1.709284, percent error 31.50\n",
      "Epoch    83, train loss 0.001951, train error 0.00,  val loss 1.710089, percent error 31.50\n",
      "Epoch    84, train loss 0.001944, train error 0.00,  val loss 1.710745, percent error 31.50\n",
      "Epoch    85, train loss 0.001937, train error 0.00,  val loss 1.711497, percent error 31.50\n",
      "Epoch    86, train loss 0.001930, train error 0.00,  val loss 1.712258, percent error 31.50\n",
      "Epoch    87, train loss 0.001923, train error 0.00,  val loss 1.713012, percent error 31.50\n",
      "Epoch    88, train loss 0.001917, train error 0.00,  val loss 1.713611, percent error 31.50\n",
      "Epoch    89, train loss 0.001910, train error 0.00,  val loss 1.714270, percent error 31.50\n",
      "Epoch    90, train loss 0.001903, train error 0.00,  val loss 1.715195, percent error 31.50\n",
      "Epoch    91, train loss 0.001896, train error 0.00,  val loss 1.715881, percent error 31.50\n",
      "Epoch    92, train loss 0.001890, train error 0.00,  val loss 1.716507, percent error 31.50\n",
      "Epoch    93, train loss 0.001883, train error 0.00,  val loss 1.717281, percent error 31.50\n",
      "Epoch    94, train loss 0.001876, train error 0.00,  val loss 1.717877, percent error 31.50\n",
      "Epoch    95, train loss 0.001870, train error 0.00,  val loss 1.718589, percent error 31.50\n",
      "Epoch    96, train loss 0.001864, train error 0.00,  val loss 1.719319, percent error 31.50\n",
      "Epoch    97, train loss 0.001857, train error 0.00,  val loss 1.720207, percent error 31.50\n",
      "Epoch    98, train loss 0.001851, train error 0.00,  val loss 1.720719, percent error 31.50\n",
      "Epoch    99, train loss 0.001844, train error 0.00,  val loss 1.721634, percent error 31.50\n"
     ]
    }
   ],
   "source": [
    "#Define the model\n",
    "model = ResidualNetwork(40, 10)\n",
    "\n",
    "# choose cross entropy loss function (equation 5.24 in the loss notes)\n",
    "loss_function = nn.CrossEntropyLoss()\n",
    "# construct SGD optimizer and initialize learning rate and momentum\n",
    "optimizer = torch.optim.SGD(model.parameters(), lr = 0.05, momentum=0.9)\n",
    "# object that decreases learning rate by half every 20 epochs\n",
    "scheduler = StepLR(optimizer, step_size=20, gamma=0.5)\n",
    "# convert data to torch tensors\n",
    "x_train = torch.tensor(train_data_x.transpose().astype('float32'))\n",
    "y_train = torch.tensor(train_data_y.astype('long'))\n",
    "x_val= torch.tensor(val_data_x.transpose().astype('float32'))\n",
    "y_val = torch.tensor(val_data_y.astype('long'))\n",
    "\n",
    "# load the data into a class that creates the batches\n",
    "data_loader = DataLoader(TensorDataset(x_train,y_train), batch_size=100, shuffle=True, worker_init_fn=np.random.seed(1))\n",
    "\n",
    "# Initialize model weights\n",
    "model.apply(weights_init)\n",
    "\n",
    "# loop over the dataset n_epoch times\n",
    "n_epoch = 100\n",
    "# store the loss and the % correct at each epoch\n",
    "losses_train = np.zeros((n_epoch))\n",
    "errors_train = np.zeros((n_epoch))\n",
    "losses_val = np.zeros((n_epoch))\n",
    "errors_val = np.zeros((n_epoch))\n",
    "\n",
    "for epoch in range(n_epoch):\n",
    "  # loop over batches\n",
    "  for i, data in enumerate(data_loader):\n",
    "    # retrieve inputs and labels for this batch\n",
    "    x_batch, y_batch = data\n",
    "    # zero the parameter gradients\n",
    "    optimizer.zero_grad()\n",
    "    # forward pass -- calculate model output\n",
    "    pred = model(x_batch)\n",
    "    # compute the loss\n",
    "    loss = loss_function(pred, y_batch.long())\n",
    "    # backward pass\n",
    "    loss.backward()\n",
    "    # SGD update\n",
    "    optimizer.step()\n",
    "\n",
    "  # Run whole dataset to get statistics -- normally wouldn't do this\n",
    "  pred_train = model(x_train)\n",
    "  pred_val = model(x_val)\n",
    "  _, predicted_train_class = torch.max(pred_train.data, 1)\n",
    "  _, predicted_val_class = torch.max(pred_val.data, 1)\n",
    "  errors_train[epoch] = 100 - 100 * (predicted_train_class == y_train).float().sum() / len(y_train)\n",
    "  errors_val[epoch]= 100 - 100 * (predicted_val_class == y_val).float().sum() / len(y_val)\n",
    "  losses_train[epoch] = loss_function(pred_train, y_train.long()).item()\n",
    "  losses_val[epoch]= loss_function(pred_val, y_val.long()).item()\n",
    "  print(f'Epoch {epoch:5d}, train loss {losses_train[epoch]:.6f}, train error {errors_train[epoch]:3.2f},  val loss {losses_val[epoch]:.6f}, percent error {errors_val[epoch]:3.2f}')\n",
    "\n",
    "  # tell scheduler to consider updating learning rate\n",
    "  scheduler.step()"
   ]
  },
  {
   "cell_type": "code",
   "execution_count": 7,
   "metadata": {
    "id": "CcP_VyEmE2sv",
    "ExecuteTime": {
     "end_time": "2024-04-24T07:01:41.693202Z",
     "start_time": "2024-04-24T07:01:41.501749500Z"
    }
   },
   "outputs": [
    {
     "data": {
      "text/plain": "<Figure size 640x480 with 1 Axes>",
      "image/png": "[encoded data removed]"
     },
     "metadata": {},
     "output_type": "display_data"
    }
   ],
   "source": [
    "# Plot the results\n",
    "fig, ax = plt.subplots()\n",
    "ax.plot(errors_train,'r-',label='train')\n",
    "ax.plot(errors_val,'b-',label='test')\n",
    "ax.set_ylim(0,100); ax.set_xlim(0,n_epoch)\n",
    "ax.set_xlabel('Epoch'); ax.set_ylabel('Error')\n",
    "ax.set_title('TrainError %3.2f, Val Error %3.2f'%(errors_train[-1],errors_val[-1]))\n",
    "ax.legend()\n",
    "plt.show()"
   ]
  },
  {
   "cell_type": "markdown",
   "metadata": {
    "id": "wMmqhmxuAx0M"
   },
   "source": [
    "The primary motivation of residual networks is to allow training of much deeper networks.   \n",
    "\n",
    "TODO: Try running this network with and without the residual connections.  Does adding the residual connections change the performance?"
   ]
  },
  {
   "cell_type": "markdown",
   "source": [
    "<span style=\"color:green;white-space:pre-wrap\">Not sure what's going on, but the skip connection does not work here. Each skip connection should be implemented after each res block, which is what I've done. I'm aware there could be more relus + linear inside of one resnet block, but it seems according to the instructions that is not the case this time.</span>"
   ],
   "metadata": {
    "collapsed": false
   }
  },
  {
   "cell_type": "code",
   "outputs": [],
   "source": [],
   "metadata": {
    "collapsed": false,
    "ExecuteTime": {
     "end_time": "2024-04-24T07:01:41.695972600Z",
     "start_time": "2024-04-24T07:01:41.694958200Z"
    }
   },
   "execution_count": 7
  }
 ],
 "metadata": {
  "colab": {
   "authorship_tag": "ABX9TyMXS3SPB4cS/4qxix0lH/Hq",
   "include_colab_link": true,
   "provenance": []
  },
  "kernelspec": {
   "display_name": "Python 3 (ipykernel)",
   "language": "python",
   "name": "python3"
  },
  "language_info": {
   "codemirror_mode": {
    "name": "ipython",
    "version": 3
   },
   "file_extension": ".py",
   "mimetype": "text/x-python",
   "name": "python",
   "nbconvert_exporter": "python",
   "pygments_lexer": "ipython3",
   "version": "3.11.4"
  }
 },
 "nbformat": 4,
 "nbformat_minor": 4
}
